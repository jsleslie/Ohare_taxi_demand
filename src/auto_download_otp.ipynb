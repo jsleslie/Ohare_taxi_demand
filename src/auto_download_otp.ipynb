{
 "cells": [
  {
   "cell_type": "code",
   "execution_count": 1,
   "metadata": {},
   "outputs": [],
   "source": [
    "import requests\n",
    "#from bs4 import BeautifulSoup\n",
    "from selenium import webdriver\n",
    "import pandas as pd\n",
    "import numpy as np\n",
    "from datetime import datetime\n",
    "\n",
    "\n"
   ]
  },
  {
   "cell_type": "code",
   "execution_count": 10,
   "metadata": {},
   "outputs": [
    {
     "name": "stderr",
     "output_type": "stream",
     "text": [
      "/Users/jaromeleslie/anaconda3/lib/python3.7/site-packages/ipykernel_launcher.py:5: DeprecationWarning: use options instead of chrome_options\n",
      "  \"\"\"\n"
     ]
    }
   ],
   "source": [
    "chrome_options = webdriver.ChromeOptions()\n",
    "prefs = {'download.default_directory' : '/Users/jaromeleslie/Documents/MDS/Personal_projects/Ohare_taxi_demand/data/otp'}\n",
    "chrome_options.add_experimental_option('prefs', prefs)\n",
    "\n",
    "driver = webdriver.Chrome(chrome_options=chrome_options)\n",
    "driver.get('https://www.transtats.bts.gov/DL_SelectFields.asp?Table_ID=236')\n",
    "\n"
   ]
  },
  {
   "cell_type": "code",
   "execution_count": 3,
   "metadata": {},
   "outputs": [],
   "source": [
    "Months = list(range(1,13,1))\n",
    "Months = list(map(str,Months))\n",
    "targ_years= list(range(2013,2020,1))\n",
    "targ_years = list(map(str,targ_years))\n"
   ]
  },
  {
   "cell_type": "code",
   "execution_count": 11,
   "metadata": {},
   "outputs": [],
   "source": [
    "#STEP 1. LOCATE DOWNLOAD BUTTON\n",
    "\n",
    "download_bt = driver.find_element_by_xpath('//*[@id=\"content\"]/table[1]/tbody/tr/td[2]/table[3]/tbody/tr/td[2]/button[1]')\n",
    "# download_bt.click()\n"
   ]
  },
  {
   "cell_type": "code",
   "execution_count": 12,
   "metadata": {},
   "outputs": [],
   "source": [
    "#STEP 2. SELECT FIELDS OF INTEREST (IGNORING DEFAULTS)\n",
    "\n",
    "#DAY_OF_WEEK\n",
    "day_of_week_sel = driver.find_element_by_xpath('/html/body/div[3]/div[3]/table[1]/tbody/tr/td[2]/table[4]/tbody/tr[7]/td[1]/input')\n",
    "day_of_week_sel.click()\n",
    "\n",
    "#FLIGHT_DATE\n",
    "fl_date_sel = driver.find_element_by_xpath('/html/body/div[3]/div[3]/table[1]/tbody/tr/td[2]/table[4]/tbody/tr[8]/td[1]/input')\n",
    "fl_date_sel.click()\n",
    "\n",
    "#OP_UNIQUE_CARRIER\n",
    "carrier_sel = driver.find_element_by_xpath('/html/body/div[3]/div[3]/table[1]/tbody/tr/td[2]/table[4]/tbody/tr[10]/td[1]/input')\n",
    "carrier_sel.click()\n",
    "\n",
    "#TAIL_NUM\n",
    "tail_num_sel = driver.find_element_by_xpath('/html/body/div[3]/div[3]/table[1]/tbody/tr/td[2]/table[4]/tbody/tr[13]/td[1]/input')\n",
    "tail_num_sel.click()\n",
    "\n",
    "\n",
    "#FLIGHT_NUM\n",
    "flight_num_sel = driver.find_element_by_xpath('/html/body/div[3]/div[3]/table[1]/tbody/tr/td[2]/table[4]/tbody/tr[14]/td[1]/input')\n",
    "flight_num_sel.click()\n",
    "\n",
    "#ORIGIN\n",
    "origin_sel = driver.find_element_by_xpath('/html/body/div[3]/div[3]/table[1]/tbody/tr/td[2]/table[4]/tbody/tr[19]/td[1]/input')\n",
    "origin_sel.click()\n",
    "\n",
    "#DEST\n",
    "dest_sel = driver.find_element_by_xpath('/html/body/div[3]/div[3]/table[1]/tbody/tr/td[2]/table[4]/tbody/tr[29]/td[1]/input')\n",
    "dest_sel.click()\n",
    "\n",
    "#ARR_TIME\n",
    "arr_time_sel = driver.find_element_by_xpath('/html/body/div[3]/div[3]/table[1]/tbody/tr/td[2]/table[4]/tbody/tr[49]/td[1]/input')\n",
    "arr_time_sel.click()\n",
    "\n",
    "#ARR_DELAY\n",
    "arr_delay_sel = driver.find_element_by_xpath('/html/body/div[3]/div[3]/table[1]/tbody/tr/td[2]/table[4]/tbody/tr[50]/td[1]/input')\n",
    "arr_delay_sel.click()\n"
   ]
  },
  {
   "cell_type": "code",
   "execution_count": 14,
   "metadata": {},
   "outputs": [],
   "source": [
    "download_bt.click()"
   ]
  },
  {
   "cell_type": "code",
   "execution_count": null,
   "metadata": {},
   "outputs": [
    {
     "name": "stdout",
     "output_type": "stream",
     "text": [
      "Value is: 2013\n",
      "1\n",
      "2\n",
      "3\n",
      "4\n"
     ]
    }
   ],
   "source": [
    "#FIND DROPDOWN FOR SELECTABLE YEARS \n",
    "year_sel = driver.find_element_by_id(\"XYEAR\")\n",
    "all_years = year_sel.find_elements_by_tag_name(\"option\")\n",
    "\n",
    "#FIND DROPDOWN FOR SELECTABLE MONTHS\n",
    "month_sel = driver.find_element_by_id(\"FREQUENCY\")\n",
    "all_months = month_sel.find_elements_by_tag_name(\"option\")\n",
    "\n",
    "#FIND DOWNLOAD BUTTON\n",
    "download_bt = driver.find_element_by_name(\"Download\")\n",
    "\n",
    "#OUTER LOOP FOR EACH YEAR\n",
    "for year in all_years:\n",
    "    if year.get_attribute(\"value\") in targ_years:\n",
    "        print(\"Value is: %s\" % year.get_attribute(\"value\"))\n",
    "        year.click()\n",
    "        \n",
    "        #INNER LOOP FOR EACH MONTH\n",
    "        for month in all_months:\n",
    "            print(month.get_attribute(\"value\"))\n",
    "            month.click()\n",
    "            \n",
    "            #EXECUTE DOWNLOAD\n",
    "            download_bt.click()\n",
    "\n",
    "\n",
    "\n",
    "\n",
    "\n",
    "\n",
    "\n",
    "\n",
    "\n",
    "\n"
   ]
  }
 ],
 "metadata": {
  "kernelspec": {
   "display_name": "Python 3",
   "language": "python",
   "name": "python3"
  },
  "language_info": {
   "codemirror_mode": {
    "name": "ipython",
    "version": 3
   },
   "file_extension": ".py",
   "mimetype": "text/x-python",
   "name": "python",
   "nbconvert_exporter": "python",
   "pygments_lexer": "ipython3",
   "version": "3.7.6"
  }
 },
 "nbformat": 4,
 "nbformat_minor": 4
}
