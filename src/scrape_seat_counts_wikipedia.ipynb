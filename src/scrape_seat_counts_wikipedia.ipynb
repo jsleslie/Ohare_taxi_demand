{
 "cells": [
  {
   "cell_type": "markdown",
   "metadata": {},
   "source": [
    "Resources:\n",
    "\n",
    "- http://aerotransport.org/php/go.php?action=help_findSubfleet\n",
    "- https://www.planespotters.net/airline/Endeavor-Air\n",
    "- https://www.airfleets.net/flottecie/American%20Airlines.htm"
   ]
  },
  {
   "cell_type": "code",
   "execution_count": 721,
   "metadata": {},
   "outputs": [],
   "source": [
    "from bs4 import BeautifulSoup\n",
    "import pandas as pd\n",
    "import requests\n",
    "import re\n",
    "import time"
   ]
  },
  {
   "cell_type": "code",
   "execution_count": 722,
   "metadata": {},
   "outputs": [
    {
     "name": "stderr",
     "output_type": "stream",
     "text": [
      "/home/dkruszew/anaconda3/lib/python3.7/site-packages/numpy/lib/arraysetops.py:569: FutureWarning: elementwise comparison failed; returning scalar instead, but in the future will perform elementwise comparison\n",
      "  mask |= (ar1 == a)\n"
     ]
    }
   ],
   "source": [
    "ORD_OTP = pd.read_csv('../data/ORD_OTP.csv', index_col = \"Unnamed: 0\")"
   ]
  },
  {
   "cell_type": "code",
   "execution_count": 723,
   "metadata": {},
   "outputs": [
    {
     "data": {
      "text/plain": [
       "UA    483352\n",
       "AA    413998\n",
       "OO    361638\n",
       "MQ    358550\n",
       "EV    248383\n",
       "DL     58473\n",
       "NK     50266\n",
       "YX     32262\n",
       "F9     19261\n",
       "US     18900\n",
       "B6     17044\n",
       "AS     15951\n",
       "YV      9548\n",
       "VX      8161\n",
       "9E      7450\n",
       "OH      2870\n",
       "Name: OP_UNIQUE_CARRIER, dtype: int64"
      ]
     },
     "execution_count": 723,
     "metadata": {},
     "output_type": "execute_result"
    }
   ],
   "source": [
    "ORD_OTP['OP_UNIQUE_CARRIER'].value_counts()"
   ]
  },
  {
   "cell_type": "code",
   "execution_count": 724,
   "metadata": {},
   "outputs": [],
   "source": [
    "my_codes = ORD_OTP['OP_UNIQUE_CARRIER'].unique().tolist()\n",
    "my_codes.sort()\n",
    "\n",
    "base_url = 'https://en.wikipedia.org'\n",
    "my_urls = [\n",
    "    '/wiki/Endeavor_Air',\n",
    "    '/wiki/American_Airlines_fleet',\n",
    "    '/wiki/Alaska_Airlines', # need wrangle\n",
    "    '/wiki/JetBlue',\n",
    "    '/wiki/Delta_Air_Lines_fleet',\n",
    "    '/wiki/ExpressJet',\n",
    "    '/wiki/Frontier_Airlines',\n",
    "    '/wiki/Envoy_Air',\n",
    "    '/wiki/Spirit_Airlines',\n",
    "    '/wiki/PSA_Airlines',\n",
    "    '/wiki/SkyWest_Airlines',\n",
    "    '/wiki/United_Airlines_fleet',\n",
    "    '/wiki/US_Airways_fleet',\n",
    "    '/wiki/Virgin_America',\n",
    "    '/wiki/Mesa_Airlines',\n",
    "    '/wiki/Republic_Airways',\n",
    "]\n",
    "\n",
    "my_airlines = dict(zip(my_codes, my_urls))"
   ]
  },
  {
   "cell_type": "code",
   "execution_count": 725,
   "metadata": {},
   "outputs": [],
   "source": [
    "def caption_hunter(tag):\n",
    "    try:\n",
    "        if tag.name==\"caption\" and (\"fleet\" in tag.text or \"Fleet\" in tag.text) and not (\"retired\" in tag.text):\n",
    "            return True\n",
    "        else:\n",
    "            return False\n",
    "    except:\n",
    "        return False"
   ]
  },
  {
   "cell_type": "code",
   "execution_count": 726,
   "metadata": {},
   "outputs": [],
   "source": [
    "def table_hunter(tag):\n",
    "    try:\n",
    "        if tag.name==\"table\" and (\"wikitable\" in tag['class'] or \"toccolours\" in tag['class']) and \"Aircraft\" in tag.text and \"Passengers\" in tag.text:\n",
    "            return True\n",
    "        else:\n",
    "            return False\n",
    "    except:\n",
    "        return False"
   ]
  },
  {
   "cell_type": "code",
   "execution_count": 727,
   "metadata": {},
   "outputs": [],
   "source": [
    "airline = []\n",
    "aircraft = []\n",
    "in_service = []\n",
    "pass_count = []\n",
    "\n",
    "for code, url in my_airlines.items():\n",
    "    airline_soup = BeautifulSoup(requests.get(base_url + url).text, 'html.parser')\n",
    "    try:\n",
    "        # Obtain table\n",
    "        try:\n",
    "            airline_fleet = pd.read_html(str(airline_soup.find(caption_hunter).find_parent(\"table\")))[0]\n",
    "        except:\n",
    "            airline_fleet = pd.read_html(str(airline_soup.find(table_hunter)))[0]\n",
    "        try:\n",
    "            airline_fleet.columns = airline_fleet.columns.droplevel(0)\n",
    "        except:\n",
    "            pass\n",
    "        airline_fleet = airline_fleet.iloc[0:-1,:]\n",
    "        \n",
    "        # Obtain airline codes\n",
    "        airline.extend([code]*airline_fleet.shape[0])\n",
    "        \n",
    "        # Obtain aircrafts\n",
    "        aircraft.extend(airline_fleet['Aircraft'].values.flatten().tolist())\n",
    "        \n",
    "        # Obtain aircraft counts\n",
    "        if 'In service' in airline_fleet.columns:\n",
    "            in_service.extend(airline_fleet['In service'].values.flatten().tolist())\n",
    "        elif 'Active' in airline_fleet.columns:\n",
    "            in_service.extend(airline_fleet['Active'].values.flatten().tolist())\n",
    "        elif 'Fleet Size' in airline_fleet.columns:\n",
    "            in_service.extend(airline_fleet['Fleet Size'].values.flatten().tolist())\n",
    "        elif 'In Service' in airline_fleet.columns:\n",
    "            in_service.extend(airline_fleet['In Service'].values.flatten().tolist())\n",
    "        elif 'Total' in airline_fleet.columns:\n",
    "            in_service.extend(airline_fleet['Total'].iloc[:,0].values.flatten().tolist())\n",
    "            \n",
    "        # Obtain passenger counts\n",
    "        try: \n",
    "            if airline_fleet.columns.tolist().count('Total') > 1:\n",
    "                pass_count.extend(airline_fleet['Total'].iloc[:,1].values.flatten().tolist())\n",
    "            else:\n",
    "                pass_count.extend(airline_fleet['Total'].values.flatten().tolist())\n",
    "        except:\n",
    "            pass_count.extend(airline_fleet['Passengers'].values.flatten().tolist())\n",
    "    except:\n",
    "        pass\n",
    "    time.sleep(0.05)\n",
    "    \n",
    "seats = pd.DataFrame({\"airline\": airline, \n",
    "                      \"aircraft\" : aircraft, \n",
    "                      \"in_service\" : in_service, \n",
    "                      \"pass_count\" : pass_count})"
   ]
  },
  {
   "cell_type": "code",
   "execution_count": 730,
   "metadata": {},
   "outputs": [],
   "source": [
    "# Remove any remaining title rows\n",
    "flags_for_removal = [\"Category\", \"Up to\", \"fleet\"]\n",
    "seats = seats[~seats.aircraft.str.contains(\"|\".join(flags_for_removal))]\n",
    "\n",
    "# Remove Cargo and SkyWest fleet from Alaska Airlines\n",
    "AS_planes_for_removal = [\"Boeing 737-700F\", \"Bombardier Q400\", \"Embraer 175\"]\n",
    "seats = seats[~((seats.aircraft.str.contains(\"|\".join(planes_for_removal))) & (seats[\"airline\"] == \"AS\"))]\n",
    "\n",
    "# Remove brackets\n",
    "seats['in_service'].replace(regex=True, inplace=True, to_replace=r'\\[.*\\]', value=r'')\n",
    "seats['pass_count'].replace(regex=True, inplace=True, to_replace=r'\\[.*\\]', value=r'')\n",
    "\n",
    "# Remove airplanes not in service\n",
    "seats = seats[~(seats['in_service'] == '—')]\n",
    "\n",
    "# Remove airplanes not in service\n",
    "seats = seats[~(seats['in_service'] == '—')]\n",
    "\n",
    "# Drop nans\n",
    "seats = seats.dropna()"
   ]
  },
  {
   "cell_type": "code",
   "execution_count": 731,
   "metadata": {},
   "outputs": [
    {
     "data": {
      "text/html": [
       "<div>\n",
       "<style scoped>\n",
       "    .dataframe tbody tr th:only-of-type {\n",
       "        vertical-align: middle;\n",
       "    }\n",
       "\n",
       "    .dataframe tbody tr th {\n",
       "        vertical-align: top;\n",
       "    }\n",
       "\n",
       "    .dataframe thead th {\n",
       "        text-align: right;\n",
       "    }\n",
       "</style>\n",
       "<table border=\"1\" class=\"dataframe\">\n",
       "  <thead>\n",
       "    <tr style=\"text-align: right;\">\n",
       "      <th></th>\n",
       "      <th>airline</th>\n",
       "      <th>aircraft</th>\n",
       "      <th>in_service</th>\n",
       "      <th>pass_count</th>\n",
       "    </tr>\n",
       "  </thead>\n",
       "  <tbody>\n",
       "    <tr>\n",
       "      <th>0</th>\n",
       "      <td>9E</td>\n",
       "      <td>Bombardier CRJ-200</td>\n",
       "      <td>42</td>\n",
       "      <td>50</td>\n",
       "    </tr>\n",
       "    <tr>\n",
       "      <th>1</th>\n",
       "      <td>9E</td>\n",
       "      <td>Bombardier CRJ-700</td>\n",
       "      <td>14</td>\n",
       "      <td>69</td>\n",
       "    </tr>\n",
       "    <tr>\n",
       "      <th>2</th>\n",
       "      <td>9E</td>\n",
       "      <td>Bombardier CRJ-900</td>\n",
       "      <td>3</td>\n",
       "      <td>70</td>\n",
       "    </tr>\n",
       "    <tr>\n",
       "      <th>3</th>\n",
       "      <td>9E</td>\n",
       "      <td>Bombardier CRJ-900</td>\n",
       "      <td>116</td>\n",
       "      <td>76</td>\n",
       "    </tr>\n",
       "    <tr>\n",
       "      <th>4</th>\n",
       "      <td>AA</td>\n",
       "      <td>Airbus A319-100</td>\n",
       "      <td>133</td>\n",
       "      <td>128</td>\n",
       "    </tr>\n",
       "    <tr>\n",
       "      <th>...</th>\n",
       "      <td>...</td>\n",
       "      <td>...</td>\n",
       "      <td>...</td>\n",
       "      <td>...</td>\n",
       "    </tr>\n",
       "    <tr>\n",
       "      <th>179</th>\n",
       "      <td>YX</td>\n",
       "      <td>Embraer E170</td>\n",
       "      <td>22</td>\n",
       "      <td>69</td>\n",
       "    </tr>\n",
       "    <tr>\n",
       "      <th>180</th>\n",
       "      <td>YX</td>\n",
       "      <td>Embraer E170</td>\n",
       "      <td>37</td>\n",
       "      <td>70</td>\n",
       "    </tr>\n",
       "    <tr>\n",
       "      <th>182</th>\n",
       "      <td>YX</td>\n",
       "      <td>Embraer E175</td>\n",
       "      <td>85</td>\n",
       "      <td>76</td>\n",
       "    </tr>\n",
       "    <tr>\n",
       "      <th>183</th>\n",
       "      <td>YX</td>\n",
       "      <td>Embraer E175</td>\n",
       "      <td>37</td>\n",
       "      <td>76</td>\n",
       "    </tr>\n",
       "    <tr>\n",
       "      <th>184</th>\n",
       "      <td>YX</td>\n",
       "      <td>Embraer E175</td>\n",
       "      <td>28</td>\n",
       "      <td>76</td>\n",
       "    </tr>\n",
       "  </tbody>\n",
       "</table>\n",
       "<p>153 rows × 4 columns</p>\n",
       "</div>"
      ],
      "text/plain": [
       "    airline            aircraft in_service pass_count\n",
       "0        9E  Bombardier CRJ-200         42         50\n",
       "1        9E  Bombardier CRJ-700         14         69\n",
       "2        9E  Bombardier CRJ-900          3         70\n",
       "3        9E  Bombardier CRJ-900        116         76\n",
       "4        AA     Airbus A319-100        133        128\n",
       "..      ...                 ...        ...        ...\n",
       "179      YX        Embraer E170         22         69\n",
       "180      YX        Embraer E170         37         70\n",
       "182      YX        Embraer E175         85         76\n",
       "183      YX        Embraer E175         37         76\n",
       "184      YX        Embraer E175         28         76\n",
       "\n",
       "[153 rows x 4 columns]"
      ]
     },
     "execution_count": 731,
     "metadata": {},
     "output_type": "execute_result"
    }
   ],
   "source": [
    "seats"
   ]
  },
  {
   "cell_type": "code",
   "execution_count": 732,
   "metadata": {},
   "outputs": [],
   "source": [
    "seats.to_csv(\"../data/seat_counts_wiki.csv\")"
   ]
  },
  {
   "cell_type": "code",
   "execution_count": null,
   "metadata": {},
   "outputs": [],
   "source": []
  }
 ],
 "metadata": {
  "kernelspec": {
   "display_name": "Python 3",
   "language": "python",
   "name": "python3"
  },
  "language_info": {
   "codemirror_mode": {
    "name": "ipython",
    "version": 3
   },
   "file_extension": ".py",
   "mimetype": "text/x-python",
   "name": "python",
   "nbconvert_exporter": "python",
   "pygments_lexer": "ipython3",
   "version": "3.7.6"
  }
 },
 "nbformat": 4,
 "nbformat_minor": 4
}
