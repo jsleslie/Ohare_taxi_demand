{
 "cells": [
  {
   "cell_type": "markdown",
   "metadata": {},
   "source": [
    "# Weather Data Downloader\n",
    "\n",
    "Data pulled from Iowa State University"
   ]
  },
  {
   "cell_type": "markdown",
   "metadata": {},
   "source": [
    "https://mesonet.agron.iastate.edu/request/download.phtml?network=IL_ASOS"
   ]
  },
  {
   "cell_type": "code",
   "execution_count": 3,
   "metadata": {},
   "outputs": [],
   "source": [
    "from __future__ import print_function\n",
    "import json\n",
    "import time\n",
    "import datetime"
   ]
  },
  {
   "cell_type": "code",
   "execution_count": 4,
   "metadata": {},
   "outputs": [],
   "source": [
    "try:\n",
    "    from urllib.request import urlopen\n",
    "except ImportError:\n",
    "    from urllib2 import urlopen"
   ]
  },
  {
   "cell_type": "code",
   "execution_count": 5,
   "metadata": {},
   "outputs": [],
   "source": [
    "# Number of attempts to download data\n",
    "MAX_ATTEMPTS = 6\n",
    "# HTTPS here can be problematic for installs that don't have Lets Encrypt CA\n",
    "SERVICE = \"http://mesonet.agron.iastate.edu/cgi-bin/request/asos.py?\""
   ]
  },
  {
   "cell_type": "code",
   "execution_count": 6,
   "metadata": {},
   "outputs": [],
   "source": [
    "def download_data(uri):\n",
    "    \"\"\"Fetch the data from the IEM\n",
    "    The IEM download service has some protections in place to keep the number\n",
    "    of inbound requests in check.  This function implements an exponential\n",
    "    backoff to keep individual downloads from erroring.\n",
    "    Args:\n",
    "      uri (string): URL to fetch\n",
    "    Returns:\n",
    "      string data\n",
    "    \"\"\"\n",
    "    attempt = 0\n",
    "    while attempt < MAX_ATTEMPTS:\n",
    "        try:\n",
    "            data = urlopen(uri, timeout=300).read().decode(\"utf-8\")\n",
    "            if data is not None and not data.startswith(\"ERROR\"):\n",
    "                return data\n",
    "        except Exception as exp:\n",
    "            print(\"download_data(%s) failed with %s\" % (uri, exp))\n",
    "            time.sleep(5)\n",
    "        attempt += 1\n",
    "\n",
    "    print(\"Exhausted attempts to download, returning empty data\")\n",
    "    return \"\""
   ]
  },
  {
   "cell_type": "code",
   "execution_count": 7,
   "metadata": {},
   "outputs": [],
   "source": [
    "def get_stations_from_filelist(filename):\n",
    "    \"\"\"Build a listing of stations from a simple file listing the stations.\n",
    "    The file should simply have one station per line.\n",
    "    \"\"\"\n",
    "    stations = []\n",
    "    for line in open(filename):\n",
    "        stations.append(line.strip())\n",
    "    return stations"
   ]
  },
  {
   "cell_type": "code",
   "execution_count": 8,
   "metadata": {},
   "outputs": [],
   "source": [
    "def get_stations_from_networks():\n",
    "    \"\"\"Build a station list by using a bunch of IEM networks.\"\"\"\n",
    "    stations = []\n",
    "    states = \"\"\"AK AL AR AZ CA CO CT DE FL GA HI IA ID IL IN KS KY LA MA MD ME\n",
    "     MI MN MO MS MT NC ND NE NH NJ NM NV NY OH OK OR PA RI SC SD TN TX UT VA VT\n",
    "     WA WI WV WY\"\"\"\n",
    "    # IEM quirk to have Iowa AWOS sites in its own labeled network\n",
    "    networks = [\"AWOS\"]\n",
    "    for state in states.split():\n",
    "        networks.append(\"%s_ASOS\" % (state,))\n",
    "\n",
    "    for network in networks:\n",
    "        # Get metadata\n",
    "        uri = (\n",
    "            \"https://mesonet.agron.iastate.edu/\" \"geojson/network/%s.geojson\"\n",
    "        ) % (network,)\n",
    "        data = urlopen(uri)\n",
    "        jdict = json.load(data)\n",
    "        for site in jdict[\"features\"]:\n",
    "            stations.append(site[\"properties\"][\"sid\"])\n",
    "    return stations"
   ]
  },
  {
   "cell_type": "code",
   "execution_count": 9,
   "metadata": {},
   "outputs": [],
   "source": [
    "def main():\n",
    "    \"\"\"Our main method\"\"\"\n",
    "    # timestamps in UTC to request data for\n",
    "    now = datetime.datetime.now()\n",
    "    startts = datetime.datetime(2013, 1, 1)\n",
    "    endts = datetime.datetime(2013, now.month, now.day)\n",
    "\n",
    "    service = SERVICE + \"data=all&tz=Etc/UTC&format=comma&latlon=yes&\"\n",
    "\n",
    "    service += startts.strftime(\"year1=%Y&month1=%m&day1=%d&\")\n",
    "    service += endts.strftime(\"year2=%Y&month2=%m&day2=%d&\")\n",
    "\n",
    "    # Two examples of how to specify a list of stations\n",
    "    # stations = get_stations_from_networks()\n",
    "    # stations = get_stations_from_filelist(\"mystations.txt\")\n",
    "    stations = ['ORD']\n",
    "    for station in stations:\n",
    "        uri = \"%s&station=%s\" % (service, station)\n",
    "        print(\"Downloading: %s\" % (station,))\n",
    "        data = download_data(uri)\n",
    "        outfn = \"../data/ORD_weather.txt\"\n",
    "#         outfn = \"data/%s_%s_%s.txt\" % (\n",
    "#             station,\n",
    "#             startts.strftime(\"%Y%m%d%H%M\"),\n",
    "#             endts.strftime(\"%Y%m%d%H%M\"),\n",
    "#         )\n",
    "        out = open(outfn, \"w\")\n",
    "        out.write(data)\n",
    "        out.close()"
   ]
  },
  {
   "cell_type": "code",
   "execution_count": 10,
   "metadata": {},
   "outputs": [
    {
     "name": "stdout",
     "output_type": "stream",
     "text": [
      "Downloading: ORD\n"
     ]
    }
   ],
   "source": [
    "main()"
   ]
  }
 ],
 "metadata": {
  "kernelspec": {
   "display_name": "Python 3",
   "language": "python",
   "name": "python3"
  },
  "language_info": {
   "codemirror_mode": {
    "name": "ipython",
    "version": 3
   },
   "file_extension": ".py",
   "mimetype": "text/x-python",
   "name": "python",
   "nbconvert_exporter": "python",
   "pygments_lexer": "ipython3",
   "version": "3.7.6"
  }
 },
 "nbformat": 4,
 "nbformat_minor": 4
}
