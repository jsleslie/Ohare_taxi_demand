{
 "cells": [
  {
   "cell_type": "markdown",
   "metadata": {},
   "source": [
    "# Flight seats downloader\n",
    "\n",
    "Data taken from [US Bureau of Transportation](https://www.transtats.bts.gov/DL_SelectFields.asp?Table_ID=236)\n",
    "\n",
    "Field descriptions provided [here](https://www.transtats.bts.gov/Fields.asp?Table_ID=311)"
   ]
  },
  {
   "cell_type": "code",
   "execution_count": 1,
   "metadata": {},
   "outputs": [],
   "source": [
    "import requests\n",
    "from selenium import webdriver\n"
   ]
  },
  {
   "cell_type": "code",
   "execution_count": 2,
   "metadata": {},
   "outputs": [
    {
     "name": "stderr",
     "output_type": "stream",
     "text": [
      "/Users/jaromeleslie/anaconda3/lib/python3.7/site-packages/ipykernel_launcher.py:5: DeprecationWarning: use options instead of chrome_options\n",
      "  \"\"\"\n"
     ]
    }
   ],
   "source": [
    "chrome_options = webdriver.ChromeOptions()\n",
    "prefs = {'download.default_directory' : '/Users/jaromeleslie/Documents/MDS/Personal_projects/Ohare_taxi_demand/data/seats'}\n",
    "chrome_options.add_experimental_option('prefs', prefs)\n",
    "\n",
    "driver = webdriver.Chrome(chrome_options=chrome_options)\n",
    "driver.get('https://www.transtats.bts.gov/DL_SelectFields.asp?Table_ID=311')\n",
    "\n"
   ]
  },
  {
   "cell_type": "code",
   "execution_count": 3,
   "metadata": {},
   "outputs": [],
   "source": [
    "targ_years= list(range(2013,2020,1))\n",
    "targ_years = list(map(str,targ_years))"
   ]
  },
  {
   "cell_type": "code",
   "execution_count": 4,
   "metadata": {},
   "outputs": [],
   "source": [
    "#STEP 1. LOCATE DOWNLOAD BUTTON\n",
    "\n",
    "download_bt = driver.find_element_by_xpath('//*[@id=\"content\"]/table[1]/tbody/tr/td[2]/table[3]/tbody/tr/td[2]/button[1]')\n",
    "# download_bt.click()"
   ]
  },
  {
   "cell_type": "code",
   "execution_count": 6,
   "metadata": {},
   "outputs": [],
   "source": [
    "#STEP 2. SELECT FIELDS OF INTEREST (IGNORING DEFAULTS)\n",
    "\n",
    "# DEPARTURES SCHEDULED\n",
    "dep_sched_sel = driver.find_element_by_xpath('/html/body/div[3]/div[3]/table[1]/tbody/tr/td[2]/table[4]/tbody/tr[3]/td[1]/input')\n",
    "dep_sched_sel.click()\n",
    "\n",
    "# DEPARTURES PERFORMED\n",
    "dep_perf_sel = driver.find_element_by_xpath('/html/body/div[3]/div[3]/table[1]/tbody/tr/td[2]/table[4]/tbody/tr[4]/td[1]/input')\n",
    "dep_perf_sel.click()\n",
    "\n",
    "\n",
    "# SEATS\n",
    "seats_sel = driver.find_element_by_xpath('/html/body/div[3]/div[3]/table[1]/tbody/tr/td[2]/table[4]/tbody/tr[6]/td[1]/input')\n",
    "seats_sel.click()\n",
    "\n",
    "# PASSENGERS\n",
    "pass_sel = driver.find_element_by_xpath('/html/body/div[3]/div[3]/table[1]/tbody/tr/td[2]/table[4]/tbody/tr[7]/td[1]/input')\n",
    "pass_sel.click()\n",
    "\n"
   ]
  },
  {
   "cell_type": "code",
   "execution_count": 10,
   "metadata": {},
   "outputs": [
    {
     "name": "stdout",
     "output_type": "stream",
     "text": [
      "Value is: 2013\n",
      "Value is: 2014\n",
      "Value is: 2015\n",
      "Value is: 2016\n",
      "Value is: 2017\n",
      "Value is: 2018\n",
      "Value is: 2019\n"
     ]
    }
   ],
   "source": [
    "#STEP 3. LOOP OVER YEARS OF INTEREST\n",
    "\n",
    "#FIND DROPDOWN FOR SELECTABLE YEARS \n",
    "year_sel = driver.find_element_by_id(\"XYEAR\")\n",
    "all_years = year_sel.find_elements_by_tag_name(\"option\")\n",
    "\n",
    "\n",
    "#OUTER LOOP FOR EACH YEAR\n",
    "for year in all_years:\n",
    "    if year.get_attribute(\"value\") in targ_years:\n",
    "        print(\"Value is: %s\" % year.get_attribute(\"value\"))\n",
    "        year.click()\n",
    "        \n",
    "\n",
    "        #EXECUTE DOWNLOAD\n",
    "        download_bt.click()\n"
   ]
  },
  {
   "cell_type": "markdown",
   "metadata": {},
   "source": [
    "# Merge downloads into single file"
   ]
  },
  {
   "cell_type": "code",
   "execution_count": 9,
   "metadata": {},
   "outputs": [],
   "source": [
    "#STARTING WITH 84 ZIPFILES, MAKE ORD_OTP.CSV\n",
    "\n",
    "import pandas as pd\n",
    "import numpy as np\n",
    "import zipfile as zp\n",
    "\n",
    "import requests\n",
    "from selenium import webdriver\n",
    "from bs4 import BeautifulSoup\n",
    "from datetime import datetime\n",
    "import pytest"
   ]
  },
  {
   "cell_type": "code",
   "execution_count": 11,
   "metadata": {},
   "outputs": [],
   "source": [
    "entries = []\n",
    "\n",
    "for i in range(72,84,1):\n",
    "    if i == 0:\n",
    "        with zp.ZipFile('../data/seats/691436399_T_T100D_SEGMENT_ALL_CARRIER.zip') as myzip:\n",
    "            myzip.extract('691436399_T_T100D_SEGMENT_ALL_CARRIER.csv',path='../data/seats')\n",
    "            df = pd.read_csv('../data/seats/691436399_T_T100D_SEGMENT_ALL_CARRIER.csv')\n",
    "            entries.append(df.query('DEST == \"ORD\"'))\n",
    "            \n",
    "    else:\n",
    "        with zp.ZipFile('../data/otp/1051953426_T_ONTIME_REPORTING '+'('+str(i)+').zip') as myzip:\n",
    "            myzip.extract('1051953426_T_ONTIME_REPORTING.csv', path ='../data/otp')\n",
    "            df = pd.read_csv('../data/otp/1051953426_T_ONTIME_REPORTING.csv')\n",
    "            entries.append(df.query('DEST == \"ORD\"'))"
   ]
  },
  {
   "cell_type": "code",
   "execution_count": 12,
   "metadata": {},
   "outputs": [],
   "source": [
    "combined_ord_seats = pd.concat(entries)"
   ]
  },
  {
   "cell_type": "code",
   "execution_count": 13,
   "metadata": {},
   "outputs": [
    {
     "data": {
      "text/html": [
       "<div>\n",
       "<style scoped>\n",
       "    .dataframe tbody tr th:only-of-type {\n",
       "        vertical-align: middle;\n",
       "    }\n",
       "\n",
       "    .dataframe tbody tr th {\n",
       "        vertical-align: top;\n",
       "    }\n",
       "\n",
       "    .dataframe thead th {\n",
       "        text-align: right;\n",
       "    }\n",
       "</style>\n",
       "<table border=\"1\" class=\"dataframe\">\n",
       "  <thead>\n",
       "    <tr style=\"text-align: right;\">\n",
       "      <th></th>\n",
       "      <th>DAY_OF_WEEK</th>\n",
       "      <th>FL_DATE</th>\n",
       "      <th>OP_UNIQUE_CARRIER</th>\n",
       "      <th>TAIL_NUM</th>\n",
       "      <th>OP_CARRIER_FL_NUM</th>\n",
       "      <th>ORIGIN_AIRPORT_ID</th>\n",
       "      <th>ORIGIN_AIRPORT_SEQ_ID</th>\n",
       "      <th>ORIGIN_CITY_MARKET_ID</th>\n",
       "      <th>ORIGIN</th>\n",
       "      <th>DEST_AIRPORT_ID</th>\n",
       "      <th>DEST_AIRPORT_SEQ_ID</th>\n",
       "      <th>DEST_CITY_MARKET_ID</th>\n",
       "      <th>DEST</th>\n",
       "      <th>ARR_TIME</th>\n",
       "      <th>ARR_DELAY</th>\n",
       "      <th>Unnamed: 15</th>\n",
       "    </tr>\n",
       "  </thead>\n",
       "  <tbody>\n",
       "    <tr>\n",
       "      <th>3820</th>\n",
       "      <td>1</td>\n",
       "      <td>2019-01-07</td>\n",
       "      <td>9E</td>\n",
       "      <td>N933XJ</td>\n",
       "      <td>5408</td>\n",
       "      <td>12478</td>\n",
       "      <td>1247805</td>\n",
       "      <td>31703</td>\n",
       "      <td>JFK</td>\n",
       "      <td>13930</td>\n",
       "      <td>1393007</td>\n",
       "      <td>30977</td>\n",
       "      <td>ORD</td>\n",
       "      <td>1659.0</td>\n",
       "      <td>-30.0</td>\n",
       "      <td>NaN</td>\n",
       "    </tr>\n",
       "    <tr>\n",
       "      <th>3821</th>\n",
       "      <td>1</td>\n",
       "      <td>2019-01-14</td>\n",
       "      <td>9E</td>\n",
       "      <td>N676CA</td>\n",
       "      <td>5408</td>\n",
       "      <td>12478</td>\n",
       "      <td>1247805</td>\n",
       "      <td>31703</td>\n",
       "      <td>JFK</td>\n",
       "      <td>13930</td>\n",
       "      <td>1393007</td>\n",
       "      <td>30977</td>\n",
       "      <td>ORD</td>\n",
       "      <td>1659.0</td>\n",
       "      <td>-30.0</td>\n",
       "      <td>NaN</td>\n",
       "    </tr>\n",
       "    <tr>\n",
       "      <th>3822</th>\n",
       "      <td>1</td>\n",
       "      <td>2019-01-21</td>\n",
       "      <td>9E</td>\n",
       "      <td>N181PQ</td>\n",
       "      <td>5408</td>\n",
       "      <td>12478</td>\n",
       "      <td>1247805</td>\n",
       "      <td>31703</td>\n",
       "      <td>JFK</td>\n",
       "      <td>13930</td>\n",
       "      <td>1393007</td>\n",
       "      <td>30977</td>\n",
       "      <td>ORD</td>\n",
       "      <td>1838.0</td>\n",
       "      <td>69.0</td>\n",
       "      <td>NaN</td>\n",
       "    </tr>\n",
       "    <tr>\n",
       "      <th>3823</th>\n",
       "      <td>1</td>\n",
       "      <td>2019-01-28</td>\n",
       "      <td>9E</td>\n",
       "      <td>N313PQ</td>\n",
       "      <td>5408</td>\n",
       "      <td>12478</td>\n",
       "      <td>1247805</td>\n",
       "      <td>31703</td>\n",
       "      <td>JFK</td>\n",
       "      <td>13930</td>\n",
       "      <td>1393007</td>\n",
       "      <td>30977</td>\n",
       "      <td>ORD</td>\n",
       "      <td>NaN</td>\n",
       "      <td>NaN</td>\n",
       "      <td>NaN</td>\n",
       "    </tr>\n",
       "    <tr>\n",
       "      <th>3927</th>\n",
       "      <td>1</td>\n",
       "      <td>2019-01-07</td>\n",
       "      <td>9E</td>\n",
       "      <td>N310PQ</td>\n",
       "      <td>5433</td>\n",
       "      <td>12478</td>\n",
       "      <td>1247805</td>\n",
       "      <td>31703</td>\n",
       "      <td>JFK</td>\n",
       "      <td>13930</td>\n",
       "      <td>1393007</td>\n",
       "      <td>30977</td>\n",
       "      <td>ORD</td>\n",
       "      <td>948.0</td>\n",
       "      <td>-14.0</td>\n",
       "      <td>NaN</td>\n",
       "    </tr>\n",
       "  </tbody>\n",
       "</table>\n",
       "</div>"
      ],
      "text/plain": [
       "      DAY_OF_WEEK     FL_DATE OP_UNIQUE_CARRIER TAIL_NUM  OP_CARRIER_FL_NUM  \\\n",
       "3820            1  2019-01-07                9E   N933XJ               5408   \n",
       "3821            1  2019-01-14                9E   N676CA               5408   \n",
       "3822            1  2019-01-21                9E   N181PQ               5408   \n",
       "3823            1  2019-01-28                9E   N313PQ               5408   \n",
       "3927            1  2019-01-07                9E   N310PQ               5433   \n",
       "\n",
       "      ORIGIN_AIRPORT_ID  ORIGIN_AIRPORT_SEQ_ID  ORIGIN_CITY_MARKET_ID ORIGIN  \\\n",
       "3820              12478                1247805                  31703    JFK   \n",
       "3821              12478                1247805                  31703    JFK   \n",
       "3822              12478                1247805                  31703    JFK   \n",
       "3823              12478                1247805                  31703    JFK   \n",
       "3927              12478                1247805                  31703    JFK   \n",
       "\n",
       "      DEST_AIRPORT_ID  DEST_AIRPORT_SEQ_ID  DEST_CITY_MARKET_ID DEST  \\\n",
       "3820            13930              1393007                30977  ORD   \n",
       "3821            13930              1393007                30977  ORD   \n",
       "3822            13930              1393007                30977  ORD   \n",
       "3823            13930              1393007                30977  ORD   \n",
       "3927            13930              1393007                30977  ORD   \n",
       "\n",
       "      ARR_TIME  ARR_DELAY  Unnamed: 15  \n",
       "3820    1659.0      -30.0          NaN  \n",
       "3821    1659.0      -30.0          NaN  \n",
       "3822    1838.0       69.0          NaN  \n",
       "3823       NaN        NaN          NaN  \n",
       "3927     948.0      -14.0          NaN  "
      ]
     },
     "execution_count": 13,
     "metadata": {},
     "output_type": "execute_result"
    }
   ],
   "source": [
    "combined_ord_seats.head()"
   ]
  },
  {
   "cell_type": "code",
   "execution_count": null,
   "metadata": {},
   "outputs": [],
   "source": []
  },
  {
   "cell_type": "code",
   "execution_count": null,
   "metadata": {},
   "outputs": [],
   "source": []
  }
 ],
 "metadata": {
  "kernelspec": {
   "display_name": "Python 3",
   "language": "python",
   "name": "python3"
  },
  "language_info": {
   "codemirror_mode": {
    "name": "ipython",
    "version": 3
   },
   "file_extension": ".py",
   "mimetype": "text/x-python",
   "name": "python",
   "nbconvert_exporter": "python",
   "pygments_lexer": "ipython3",
   "version": "3.7.6"
  }
 },
 "nbformat": 4,
 "nbformat_minor": 4
}
