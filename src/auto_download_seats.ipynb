{
 "cells": [
  {
   "cell_type": "markdown",
   "metadata": {},
   "source": [
    "# Flight seats downloader\n",
    "\n",
    "Data taken from [US Bureau of Transportation](https://www.transtats.bts.gov/DL_SelectFields.asp?Table_ID=236)\n",
    "\n",
    "Field descriptions provided [here](https://www.transtats.bts.gov/Fields.asp?Table_ID=311)"
   ]
  },
  {
   "cell_type": "code",
   "execution_count": 1,
   "metadata": {},
   "outputs": [],
   "source": [
    "import requests\n",
    "from selenium import webdriver\n"
   ]
  },
  {
   "cell_type": "code",
   "execution_count": 2,
   "metadata": {},
   "outputs": [
    {
     "name": "stderr",
     "output_type": "stream",
     "text": [
      "/Users/jaromeleslie/anaconda3/lib/python3.7/site-packages/ipykernel_launcher.py:5: DeprecationWarning: use options instead of chrome_options\n",
      "  \"\"\"\n"
     ]
    }
   ],
   "source": [
    "chrome_options = webdriver.ChromeOptions()\n",
    "prefs = {'download.default_directory' : '/Users/jaromeleslie/Documents/MDS/Personal_projects/Ohare_taxi_demand/data/seats'}\n",
    "chrome_options.add_experimental_option('prefs', prefs)\n",
    "\n",
    "driver = webdriver.Chrome(chrome_options=chrome_options)\n",
    "driver.get('https://www.transtats.bts.gov/DL_SelectFields.asp?Table_ID=311')\n",
    "\n"
   ]
  },
  {
   "cell_type": "code",
   "execution_count": 3,
   "metadata": {},
   "outputs": [],
   "source": [
    "targ_years= list(range(2013,2020,1))\n",
    "targ_years = list(map(str,targ_years))"
   ]
  },
  {
   "cell_type": "code",
   "execution_count": 4,
   "metadata": {},
   "outputs": [],
   "source": [
    "#STEP 1. LOCATE DOWNLOAD BUTTON\n",
    "\n",
    "download_bt = driver.find_element_by_xpath('//*[@id=\"content\"]/table[1]/tbody/tr/td[2]/table[3]/tbody/tr/td[2]/button[1]')\n",
    "# download_bt.click()"
   ]
  },
  {
   "cell_type": "code",
   "execution_count": 6,
   "metadata": {},
   "outputs": [],
   "source": [
    "#STEP 2. SELECT FIELDS OF INTEREST (IGNORING DEFAULTS)\n",
    "\n",
    "# DEPARTURES SCHEDULED\n",
    "dep_sched_sel = driver.find_element_by_xpath('/html/body/div[3]/div[3]/table[1]/tbody/tr/td[2]/table[4]/tbody/tr[3]/td[1]/input')\n",
    "dep_sched_sel.click()\n",
    "\n",
    "# DEPARTURES PERFORMED\n",
    "dep_perf_sel = driver.find_element_by_xpath('/html/body/div[3]/div[3]/table[1]/tbody/tr/td[2]/table[4]/tbody/tr[4]/td[1]/input')\n",
    "dep_perf_sel.click()\n",
    "\n",
    "\n",
    "# SEATS\n",
    "seats_sel = driver.find_element_by_xpath('/html/body/div[3]/div[3]/table[1]/tbody/tr/td[2]/table[4]/tbody/tr[6]/td[1]/input')\n",
    "seats_sel.click()\n",
    "\n",
    "# PASSENGERS\n",
    "pass_sel = driver.find_element_by_xpath('/html/body/div[3]/div[3]/table[1]/tbody/tr/td[2]/table[4]/tbody/tr[7]/td[1]/input')\n",
    "pass_sel.click()\n",
    "\n"
   ]
  },
  {
   "cell_type": "code",
   "execution_count": null,
   "metadata": {},
   "outputs": [
    {
     "name": "stdout",
     "output_type": "stream",
     "text": [
      "Value is: 2013\n",
      "Value is: 2014\n",
      "Value is: 2015\n",
      "Value is: 2016\n"
     ]
    }
   ],
   "source": [
    "#STEP 3. LOOP OVER YEARS OF INTEREST\n",
    "\n",
    "#FIND DROPDOWN FOR SELECTABLE YEARS \n",
    "year_sel = driver.find_element_by_id(\"XYEAR\")\n",
    "all_years = year_sel.find_elements_by_tag_name(\"option\")\n",
    "\n",
    "\n",
    "#OUTER LOOP FOR EACH YEAR\n",
    "for year in all_years:\n",
    "    if year.get_attribute(\"value\") in targ_years:\n",
    "        print(\"Value is: %s\" % year.get_attribute(\"value\"))\n",
    "        year.click()\n",
    "        \n",
    "\n",
    "        #EXECUTE DOWNLOAD\n",
    "        download_bt.click()\n"
   ]
  },
  {
   "cell_type": "code",
   "execution_count": null,
   "metadata": {},
   "outputs": [],
   "source": []
  },
  {
   "cell_type": "code",
   "execution_count": null,
   "metadata": {},
   "outputs": [],
   "source": []
  },
  {
   "cell_type": "code",
   "execution_count": null,
   "metadata": {},
   "outputs": [],
   "source": []
  },
  {
   "cell_type": "code",
   "execution_count": null,
   "metadata": {},
   "outputs": [],
   "source": []
  },
  {
   "cell_type": "code",
   "execution_count": null,
   "metadata": {},
   "outputs": [],
   "source": []
  },
  {
   "cell_type": "code",
   "execution_count": null,
   "metadata": {},
   "outputs": [],
   "source": []
  }
 ],
 "metadata": {
  "kernelspec": {
   "display_name": "Python 3",
   "language": "python",
   "name": "python3"
  },
  "language_info": {
   "codemirror_mode": {
    "name": "ipython",
    "version": 3
   },
   "file_extension": ".py",
   "mimetype": "text/x-python",
   "name": "python",
   "nbconvert_exporter": "python",
   "pygments_lexer": "ipython3",
   "version": "3.7.6"
  }
 },
 "nbformat": 4,
 "nbformat_minor": 4
}
