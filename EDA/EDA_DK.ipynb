{
 "cells": [
  {
   "cell_type": "markdown",
   "metadata": {},
   "source": [
    "# Exploratory Data Analysis"
   ]
  },
  {
   "cell_type": "code",
   "execution_count": 57,
   "metadata": {},
   "outputs": [],
   "source": [
    "import pandas as pd\n",
    "import numpy as np\n",
    "import altair as alt"
   ]
  },
  {
   "cell_type": "code",
   "execution_count": 69,
   "metadata": {},
   "outputs": [
    {
     "data": {
      "text/plain": [
       "DataTransformerRegistry.enable('json')"
      ]
     },
     "execution_count": 69,
     "metadata": {},
     "output_type": "execute_result"
    }
   ],
   "source": [
    "alt.data_transformers.enable('json')"
   ]
  },
  {
   "cell_type": "code",
   "execution_count": 58,
   "metadata": {},
   "outputs": [],
   "source": [
    "ORD = pd.read_csv('../data/ORD.csv', index_col='Unnamed: 0')"
   ]
  },
  {
   "cell_type": "code",
   "execution_count": 59,
   "metadata": {},
   "outputs": [],
   "source": [
    "ORD_train = ORD[ORD['year'] < 2018]"
   ]
  },
  {
   "cell_type": "code",
   "execution_count": 64,
   "metadata": {},
   "outputs": [
    {
     "data": {
      "text/html": [
       "<div>\n",
       "<style scoped>\n",
       "    .dataframe tbody tr th:only-of-type {\n",
       "        vertical-align: middle;\n",
       "    }\n",
       "\n",
       "    .dataframe tbody tr th {\n",
       "        vertical-align: top;\n",
       "    }\n",
       "\n",
       "    .dataframe thead th {\n",
       "        text-align: right;\n",
       "    }\n",
       "</style>\n",
       "<table border=\"1\" class=\"dataframe\">\n",
       "  <thead>\n",
       "    <tr style=\"text-align: right;\">\n",
       "      <th></th>\n",
       "      <th>year</th>\n",
       "      <th>month</th>\n",
       "      <th>day</th>\n",
       "      <th>hour</th>\n",
       "      <th>rides</th>\n",
       "      <th>tmpf</th>\n",
       "      <th>dwpf</th>\n",
       "      <th>relh</th>\n",
       "      <th>sknt</th>\n",
       "      <th>p01i</th>\n",
       "      <th>vsby</th>\n",
       "      <th>feel</th>\n",
       "      <th>skyc</th>\n",
       "      <th>seats</th>\n",
       "      <th>airline</th>\n",
       "    </tr>\n",
       "  </thead>\n",
       "  <tbody>\n",
       "    <tr>\n",
       "      <th>0</th>\n",
       "      <td>2013</td>\n",
       "      <td>1</td>\n",
       "      <td>1</td>\n",
       "      <td>0</td>\n",
       "      <td>22</td>\n",
       "      <td>24.98</td>\n",
       "      <td>17.96</td>\n",
       "      <td>74.290000</td>\n",
       "      <td>9.000000</td>\n",
       "      <td>0.0</td>\n",
       "      <td>9.000000</td>\n",
       "      <td>14.780000</td>\n",
       "      <td>3.000000</td>\n",
       "      <td>464.876254</td>\n",
       "      <td>3.0</td>\n",
       "    </tr>\n",
       "    <tr>\n",
       "      <th>1</th>\n",
       "      <td>2013</td>\n",
       "      <td>1</td>\n",
       "      <td>1</td>\n",
       "      <td>1</td>\n",
       "      <td>9</td>\n",
       "      <td>24.89</td>\n",
       "      <td>17.78</td>\n",
       "      <td>73.995000</td>\n",
       "      <td>9.000000</td>\n",
       "      <td>0.0</td>\n",
       "      <td>8.000000</td>\n",
       "      <td>14.670000</td>\n",
       "      <td>5.000000</td>\n",
       "      <td>147.962430</td>\n",
       "      <td>1.0</td>\n",
       "    </tr>\n",
       "    <tr>\n",
       "      <th>2</th>\n",
       "      <td>2013</td>\n",
       "      <td>1</td>\n",
       "      <td>1</td>\n",
       "      <td>2</td>\n",
       "      <td>11</td>\n",
       "      <td>21.20</td>\n",
       "      <td>14.00</td>\n",
       "      <td>73.320000</td>\n",
       "      <td>10.000000</td>\n",
       "      <td>0.0</td>\n",
       "      <td>9.000000</td>\n",
       "      <td>9.420000</td>\n",
       "      <td>5.000000</td>\n",
       "      <td>NaN</td>\n",
       "      <td>NaN</td>\n",
       "    </tr>\n",
       "    <tr>\n",
       "      <th>3</th>\n",
       "      <td>2013</td>\n",
       "      <td>1</td>\n",
       "      <td>1</td>\n",
       "      <td>3</td>\n",
       "      <td>3</td>\n",
       "      <td>21.14</td>\n",
       "      <td>12.14</td>\n",
       "      <td>67.723333</td>\n",
       "      <td>10.666667</td>\n",
       "      <td>0.0</td>\n",
       "      <td>9.666667</td>\n",
       "      <td>8.976667</td>\n",
       "      <td>4.333333</td>\n",
       "      <td>NaN</td>\n",
       "      <td>NaN</td>\n",
       "    </tr>\n",
       "    <tr>\n",
       "      <th>4</th>\n",
       "      <td>2013</td>\n",
       "      <td>1</td>\n",
       "      <td>1</td>\n",
       "      <td>4</td>\n",
       "      <td>5</td>\n",
       "      <td>19.94</td>\n",
       "      <td>10.94</td>\n",
       "      <td>67.580000</td>\n",
       "      <td>10.000000</td>\n",
       "      <td>0.0</td>\n",
       "      <td>10.000000</td>\n",
       "      <td>7.840000</td>\n",
       "      <td>5.000000</td>\n",
       "      <td>847.150186</td>\n",
       "      <td>4.0</td>\n",
       "    </tr>\n",
       "  </tbody>\n",
       "</table>\n",
       "</div>"
      ],
      "text/plain": [
       "   year  month  day  hour  rides   tmpf   dwpf       relh       sknt  p01i  \\\n",
       "0  2013      1    1     0     22  24.98  17.96  74.290000   9.000000   0.0   \n",
       "1  2013      1    1     1      9  24.89  17.78  73.995000   9.000000   0.0   \n",
       "2  2013      1    1     2     11  21.20  14.00  73.320000  10.000000   0.0   \n",
       "3  2013      1    1     3      3  21.14  12.14  67.723333  10.666667   0.0   \n",
       "4  2013      1    1     4      5  19.94  10.94  67.580000  10.000000   0.0   \n",
       "\n",
       "        vsby       feel      skyc       seats  airline  \n",
       "0   9.000000  14.780000  3.000000  464.876254      3.0  \n",
       "1   8.000000  14.670000  5.000000  147.962430      1.0  \n",
       "2   9.000000   9.420000  5.000000         NaN      NaN  \n",
       "3   9.666667   8.976667  4.333333         NaN      NaN  \n",
       "4  10.000000   7.840000  5.000000  847.150186      4.0  "
      ]
     },
     "execution_count": 64,
     "metadata": {},
     "output_type": "execute_result"
    }
   ],
   "source": [
    "ORD_train.head(5)"
   ]
  },
  {
   "cell_type": "code",
   "execution_count": 60,
   "metadata": {},
   "outputs": [],
   "source": [
    "def lag_df(df, lag, cols):\n",
    "    return df.assign(**{f\"{col}-{n}\": df[col].shift(n) for n in range(1, lag + 1) for col in cols})"
   ]
  },
  {
   "cell_type": "code",
   "execution_count": 61,
   "metadata": {},
   "outputs": [],
   "source": [
    "lag = 3\n",
    "ORD_train_lag = lag_df(ORD_train, lag=lag, cols=['seats'])\n",
    "#ORD_train_lag = lag_df(ORD_train, lag=lag, cols=ORD_train.columns.tolist())"
   ]
  },
  {
   "cell_type": "code",
   "execution_count": 62,
   "metadata": {},
   "outputs": [
    {
     "data": {
      "text/html": [
       "<div>\n",
       "<style scoped>\n",
       "    .dataframe tbody tr th:only-of-type {\n",
       "        vertical-align: middle;\n",
       "    }\n",
       "\n",
       "    .dataframe tbody tr th {\n",
       "        vertical-align: top;\n",
       "    }\n",
       "\n",
       "    .dataframe thead th {\n",
       "        text-align: right;\n",
       "    }\n",
       "</style>\n",
       "<table border=\"1\" class=\"dataframe\">\n",
       "  <thead>\n",
       "    <tr style=\"text-align: right;\">\n",
       "      <th></th>\n",
       "      <th>year</th>\n",
       "      <th>month</th>\n",
       "      <th>day</th>\n",
       "      <th>hour</th>\n",
       "      <th>rides</th>\n",
       "      <th>tmpf</th>\n",
       "      <th>dwpf</th>\n",
       "      <th>relh</th>\n",
       "      <th>sknt</th>\n",
       "      <th>p01i</th>\n",
       "      <th>vsby</th>\n",
       "      <th>feel</th>\n",
       "      <th>skyc</th>\n",
       "      <th>seats</th>\n",
       "      <th>airline</th>\n",
       "      <th>seats-1</th>\n",
       "      <th>seats-2</th>\n",
       "      <th>seats-3</th>\n",
       "    </tr>\n",
       "  </thead>\n",
       "  <tbody>\n",
       "    <tr>\n",
       "      <th>0</th>\n",
       "      <td>2013</td>\n",
       "      <td>1</td>\n",
       "      <td>1</td>\n",
       "      <td>0</td>\n",
       "      <td>22</td>\n",
       "      <td>24.98</td>\n",
       "      <td>17.96</td>\n",
       "      <td>74.290000</td>\n",
       "      <td>9.000000</td>\n",
       "      <td>0.0</td>\n",
       "      <td>9.000000</td>\n",
       "      <td>14.780000</td>\n",
       "      <td>3.000000</td>\n",
       "      <td>464.876254</td>\n",
       "      <td>3.0</td>\n",
       "      <td>NaN</td>\n",
       "      <td>NaN</td>\n",
       "      <td>NaN</td>\n",
       "    </tr>\n",
       "    <tr>\n",
       "      <th>1</th>\n",
       "      <td>2013</td>\n",
       "      <td>1</td>\n",
       "      <td>1</td>\n",
       "      <td>1</td>\n",
       "      <td>9</td>\n",
       "      <td>24.89</td>\n",
       "      <td>17.78</td>\n",
       "      <td>73.995000</td>\n",
       "      <td>9.000000</td>\n",
       "      <td>0.0</td>\n",
       "      <td>8.000000</td>\n",
       "      <td>14.670000</td>\n",
       "      <td>5.000000</td>\n",
       "      <td>147.962430</td>\n",
       "      <td>1.0</td>\n",
       "      <td>464.876254</td>\n",
       "      <td>NaN</td>\n",
       "      <td>NaN</td>\n",
       "    </tr>\n",
       "    <tr>\n",
       "      <th>2</th>\n",
       "      <td>2013</td>\n",
       "      <td>1</td>\n",
       "      <td>1</td>\n",
       "      <td>2</td>\n",
       "      <td>11</td>\n",
       "      <td>21.20</td>\n",
       "      <td>14.00</td>\n",
       "      <td>73.320000</td>\n",
       "      <td>10.000000</td>\n",
       "      <td>0.0</td>\n",
       "      <td>9.000000</td>\n",
       "      <td>9.420000</td>\n",
       "      <td>5.000000</td>\n",
       "      <td>NaN</td>\n",
       "      <td>NaN</td>\n",
       "      <td>147.962430</td>\n",
       "      <td>464.876254</td>\n",
       "      <td>NaN</td>\n",
       "    </tr>\n",
       "    <tr>\n",
       "      <th>3</th>\n",
       "      <td>2013</td>\n",
       "      <td>1</td>\n",
       "      <td>1</td>\n",
       "      <td>3</td>\n",
       "      <td>3</td>\n",
       "      <td>21.14</td>\n",
       "      <td>12.14</td>\n",
       "      <td>67.723333</td>\n",
       "      <td>10.666667</td>\n",
       "      <td>0.0</td>\n",
       "      <td>9.666667</td>\n",
       "      <td>8.976667</td>\n",
       "      <td>4.333333</td>\n",
       "      <td>NaN</td>\n",
       "      <td>NaN</td>\n",
       "      <td>NaN</td>\n",
       "      <td>147.962430</td>\n",
       "      <td>464.876254</td>\n",
       "    </tr>\n",
       "    <tr>\n",
       "      <th>4</th>\n",
       "      <td>2013</td>\n",
       "      <td>1</td>\n",
       "      <td>1</td>\n",
       "      <td>4</td>\n",
       "      <td>5</td>\n",
       "      <td>19.94</td>\n",
       "      <td>10.94</td>\n",
       "      <td>67.580000</td>\n",
       "      <td>10.000000</td>\n",
       "      <td>0.0</td>\n",
       "      <td>10.000000</td>\n",
       "      <td>7.840000</td>\n",
       "      <td>5.000000</td>\n",
       "      <td>847.150186</td>\n",
       "      <td>4.0</td>\n",
       "      <td>NaN</td>\n",
       "      <td>NaN</td>\n",
       "      <td>147.962430</td>\n",
       "    </tr>\n",
       "    <tr>\n",
       "      <th>...</th>\n",
       "      <td>...</td>\n",
       "      <td>...</td>\n",
       "      <td>...</td>\n",
       "      <td>...</td>\n",
       "      <td>...</td>\n",
       "      <td>...</td>\n",
       "      <td>...</td>\n",
       "      <td>...</td>\n",
       "      <td>...</td>\n",
       "      <td>...</td>\n",
       "      <td>...</td>\n",
       "      <td>...</td>\n",
       "      <td>...</td>\n",
       "      <td>...</td>\n",
       "      <td>...</td>\n",
       "      <td>...</td>\n",
       "      <td>...</td>\n",
       "      <td>...</td>\n",
       "    </tr>\n",
       "    <tr>\n",
       "      <th>43757</th>\n",
       "      <td>2017</td>\n",
       "      <td>12</td>\n",
       "      <td>31</td>\n",
       "      <td>19</td>\n",
       "      <td>159</td>\n",
       "      <td>12.90</td>\n",
       "      <td>-2.00</td>\n",
       "      <td>50.620000</td>\n",
       "      <td>12.769231</td>\n",
       "      <td>0.0</td>\n",
       "      <td>10.000000</td>\n",
       "      <td>-3.460000</td>\n",
       "      <td>2.923077</td>\n",
       "      <td>4652.273120</td>\n",
       "      <td>37.0</td>\n",
       "      <td>6279.424095</td>\n",
       "      <td>3469.881437</td>\n",
       "      <td>4896.180254</td>\n",
       "    </tr>\n",
       "    <tr>\n",
       "      <th>43758</th>\n",
       "      <td>2017</td>\n",
       "      <td>12</td>\n",
       "      <td>31</td>\n",
       "      <td>20</td>\n",
       "      <td>100</td>\n",
       "      <td>12.90</td>\n",
       "      <td>-2.90</td>\n",
       "      <td>48.500000</td>\n",
       "      <td>13.153846</td>\n",
       "      <td>0.0</td>\n",
       "      <td>10.000000</td>\n",
       "      <td>-2.900000</td>\n",
       "      <td>0.230769</td>\n",
       "      <td>2201.296388</td>\n",
       "      <td>15.0</td>\n",
       "      <td>4652.273120</td>\n",
       "      <td>6279.424095</td>\n",
       "      <td>3469.881437</td>\n",
       "    </tr>\n",
       "    <tr>\n",
       "      <th>43759</th>\n",
       "      <td>2017</td>\n",
       "      <td>12</td>\n",
       "      <td>31</td>\n",
       "      <td>21</td>\n",
       "      <td>62</td>\n",
       "      <td>10.90</td>\n",
       "      <td>-4.00</td>\n",
       "      <td>50.280000</td>\n",
       "      <td>12.307692</td>\n",
       "      <td>0.0</td>\n",
       "      <td>10.000000</td>\n",
       "      <td>-5.460000</td>\n",
       "      <td>0.230769</td>\n",
       "      <td>1456.971367</td>\n",
       "      <td>10.0</td>\n",
       "      <td>2201.296388</td>\n",
       "      <td>4652.273120</td>\n",
       "      <td>6279.424095</td>\n",
       "    </tr>\n",
       "    <tr>\n",
       "      <th>43760</th>\n",
       "      <td>2017</td>\n",
       "      <td>12</td>\n",
       "      <td>31</td>\n",
       "      <td>22</td>\n",
       "      <td>53</td>\n",
       "      <td>9.00</td>\n",
       "      <td>-4.00</td>\n",
       "      <td>54.740000</td>\n",
       "      <td>11.666667</td>\n",
       "      <td>0.0</td>\n",
       "      <td>10.000000</td>\n",
       "      <td>-5.090000</td>\n",
       "      <td>0.307692</td>\n",
       "      <td>1338.399399</td>\n",
       "      <td>9.0</td>\n",
       "      <td>1456.971367</td>\n",
       "      <td>2201.296388</td>\n",
       "      <td>4652.273120</td>\n",
       "    </tr>\n",
       "    <tr>\n",
       "      <th>43761</th>\n",
       "      <td>2017</td>\n",
       "      <td>12</td>\n",
       "      <td>31</td>\n",
       "      <td>23</td>\n",
       "      <td>30</td>\n",
       "      <td>7.00</td>\n",
       "      <td>-5.10</td>\n",
       "      <td>56.830000</td>\n",
       "      <td>9.538462</td>\n",
       "      <td>0.0</td>\n",
       "      <td>10.000000</td>\n",
       "      <td>-8.380000</td>\n",
       "      <td>0.153846</td>\n",
       "      <td>1994.739251</td>\n",
       "      <td>11.0</td>\n",
       "      <td>1338.399399</td>\n",
       "      <td>1456.971367</td>\n",
       "      <td>2201.296388</td>\n",
       "    </tr>\n",
       "  </tbody>\n",
       "</table>\n",
       "<p>43762 rows × 18 columns</p>\n",
       "</div>"
      ],
      "text/plain": [
       "       year  month  day  hour  rides   tmpf   dwpf       relh       sknt  \\\n",
       "0      2013      1    1     0     22  24.98  17.96  74.290000   9.000000   \n",
       "1      2013      1    1     1      9  24.89  17.78  73.995000   9.000000   \n",
       "2      2013      1    1     2     11  21.20  14.00  73.320000  10.000000   \n",
       "3      2013      1    1     3      3  21.14  12.14  67.723333  10.666667   \n",
       "4      2013      1    1     4      5  19.94  10.94  67.580000  10.000000   \n",
       "...     ...    ...  ...   ...    ...    ...    ...        ...        ...   \n",
       "43757  2017     12   31    19    159  12.90  -2.00  50.620000  12.769231   \n",
       "43758  2017     12   31    20    100  12.90  -2.90  48.500000  13.153846   \n",
       "43759  2017     12   31    21     62  10.90  -4.00  50.280000  12.307692   \n",
       "43760  2017     12   31    22     53   9.00  -4.00  54.740000  11.666667   \n",
       "43761  2017     12   31    23     30   7.00  -5.10  56.830000   9.538462   \n",
       "\n",
       "       p01i       vsby       feel      skyc        seats  airline  \\\n",
       "0       0.0   9.000000  14.780000  3.000000   464.876254      3.0   \n",
       "1       0.0   8.000000  14.670000  5.000000   147.962430      1.0   \n",
       "2       0.0   9.000000   9.420000  5.000000          NaN      NaN   \n",
       "3       0.0   9.666667   8.976667  4.333333          NaN      NaN   \n",
       "4       0.0  10.000000   7.840000  5.000000   847.150186      4.0   \n",
       "...     ...        ...        ...       ...          ...      ...   \n",
       "43757   0.0  10.000000  -3.460000  2.923077  4652.273120     37.0   \n",
       "43758   0.0  10.000000  -2.900000  0.230769  2201.296388     15.0   \n",
       "43759   0.0  10.000000  -5.460000  0.230769  1456.971367     10.0   \n",
       "43760   0.0  10.000000  -5.090000  0.307692  1338.399399      9.0   \n",
       "43761   0.0  10.000000  -8.380000  0.153846  1994.739251     11.0   \n",
       "\n",
       "           seats-1      seats-2      seats-3  \n",
       "0              NaN          NaN          NaN  \n",
       "1       464.876254          NaN          NaN  \n",
       "2       147.962430   464.876254          NaN  \n",
       "3              NaN   147.962430   464.876254  \n",
       "4              NaN          NaN   147.962430  \n",
       "...            ...          ...          ...  \n",
       "43757  6279.424095  3469.881437  4896.180254  \n",
       "43758  4652.273120  6279.424095  3469.881437  \n",
       "43759  2201.296388  4652.273120  6279.424095  \n",
       "43760  1456.971367  2201.296388  4652.273120  \n",
       "43761  1338.399399  1456.971367  2201.296388  \n",
       "\n",
       "[43762 rows x 18 columns]"
      ]
     },
     "execution_count": 62,
     "metadata": {},
     "output_type": "execute_result"
    }
   ],
   "source": [
    "ORD_train_lag"
   ]
  },
  {
   "cell_type": "code",
   "execution_count": 63,
   "metadata": {},
   "outputs": [
    {
     "data": {
      "application/vnd.vegalite.v3+json": {
       "$schema": "https://vega.github.io/schema/vega-lite/v3.4.0.json",
       "config": {
        "mark": {
         "tooltip": null
        },
        "view": {
         "height": 300,
         "width": 400
        }
       },
       "data": {
        "name": "data-de5b0bc5b713a6b5c2ad40c48f60c25a"
       },
       "datasets": {
        "data-de5b0bc5b713a6b5c2ad40c48f60c25a": [
         {
          "Correlation": 1,
          "Var1": "year",
          "Var2": "year"
         },
         {
          "Correlation": -0.0010083379428025671,
          "Var1": "month",
          "Var2": "year"
         },
         {
          "Correlation": 0.0002701413773295901,
          "Var1": "day",
          "Var2": "year"
         },
         {
          "Correlation": -0.0007621198038605555,
          "Var1": "hour",
          "Var2": "year"
         },
         {
          "Correlation": 0.17451468182989033,
          "Var1": "rides",
          "Var2": "year"
         },
         {
          "Correlation": 0.07273129084092456,
          "Var1": "tmpf",
          "Var2": "year"
         },
         {
          "Correlation": 0.057890359001205656,
          "Var1": "dwpf",
          "Var2": "year"
         },
         {
          "Correlation": -0.03589839419152852,
          "Var1": "relh",
          "Var2": "year"
         },
         {
          "Correlation": 0.00041873464353727824,
          "Var1": "sknt",
          "Var2": "year"
         },
         {
          "Correlation": -0.002523288413945064,
          "Var1": "p01i",
          "Var2": "year"
         },
         {
          "Correlation": -0.004729919228483598,
          "Var1": "vsby",
          "Var2": "year"
         },
         {
          "Correlation": 0.07191933441105874,
          "Var1": "feel",
          "Var2": "year"
         },
         {
          "Correlation": -0.17764945934777676,
          "Var1": "skyc",
          "Var2": "year"
         },
         {
          "Correlation": 0.04167719410955968,
          "Var1": "seats",
          "Var2": "year"
         },
         {
          "Correlation": -0.10853896226175243,
          "Var1": "airline",
          "Var2": "year"
         },
         {
          "Correlation": 0.04161642035141705,
          "Var1": "seats-1",
          "Var2": "year"
         },
         {
          "Correlation": 0.04157163397870505,
          "Var1": "seats-2",
          "Var2": "year"
         },
         {
          "Correlation": 0.04153550327051266,
          "Var1": "seats-3",
          "Var2": "year"
         },
         {
          "Correlation": -0.0010083379428025671,
          "Var1": "year",
          "Var2": "month"
         },
         {
          "Correlation": 1,
          "Var1": "month",
          "Var2": "month"
         },
         {
          "Correlation": 0.01073736091778888,
          "Var1": "day",
          "Var2": "month"
         },
         {
          "Correlation": -0.0005051318512955368,
          "Var1": "hour",
          "Var2": "month"
         },
         {
          "Correlation": 0.04596613850966899,
          "Var1": "rides",
          "Var2": "month"
         },
         {
          "Correlation": 0.26018353232637376,
          "Var1": "tmpf",
          "Var2": "month"
         },
         {
          "Correlation": 0.28941969482319313,
          "Var1": "dwpf",
          "Var2": "month"
         },
         {
          "Correlation": 0.07593931432902812,
          "Var1": "relh",
          "Var2": "month"
         },
         {
          "Correlation": -0.08756690566946289,
          "Var1": "sknt",
          "Var2": "month"
         },
         {
          "Correlation": -0.008279791288419781,
          "Var1": "p01i",
          "Var2": "month"
         },
         {
          "Correlation": 0.04737187079221399,
          "Var1": "vsby",
          "Var2": "month"
         },
         {
          "Correlation": 0.2663597630992908,
          "Var1": "feel",
          "Var2": "month"
         },
         {
          "Correlation": -0.06776157563482445,
          "Var1": "skyc",
          "Var2": "month"
         },
         {
          "Correlation": 0.07225998271197222,
          "Var1": "seats",
          "Var2": "month"
         },
         {
          "Correlation": 0.049762984902771853,
          "Var1": "airline",
          "Var2": "month"
         },
         {
          "Correlation": 0.072358733791307,
          "Var1": "seats-1",
          "Var2": "month"
         },
         {
          "Correlation": 0.07254144073066866,
          "Var1": "seats-2",
          "Var2": "month"
         },
         {
          "Correlation": 0.07287105454205496,
          "Var1": "seats-3",
          "Var2": "month"
         },
         {
          "Correlation": 0.0002701413773295901,
          "Var1": "year",
          "Var2": "day"
         },
         {
          "Correlation": 0.01073736091778888,
          "Var1": "month",
          "Var2": "day"
         },
         {
          "Correlation": 1,
          "Var1": "day",
          "Var2": "day"
         },
         {
          "Correlation": -0.00013852785516129507,
          "Var1": "hour",
          "Var2": "day"
         },
         {
          "Correlation": -0.02251519322570257,
          "Var1": "rides",
          "Var2": "day"
         },
         {
          "Correlation": 0.023375412361447155,
          "Var1": "tmpf",
          "Var2": "day"
         },
         {
          "Correlation": 0.032425523836468295,
          "Var1": "dwpf",
          "Var2": "day"
         },
         {
          "Correlation": 0.018575015233787122,
          "Var1": "relh",
          "Var2": "day"
         },
         {
          "Correlation": 0.029186253019038114,
          "Var1": "sknt",
          "Var2": "day"
         },
         {
          "Correlation": 0.0021933812310140363,
          "Var1": "p01i",
          "Var2": "day"
         },
         {
          "Correlation": 0.026472481498642685,
          "Var1": "vsby",
          "Var2": "day"
         },
         {
          "Correlation": 0.020965865200663215,
          "Var1": "feel",
          "Var2": "day"
         },
         {
          "Correlation": 0.024797299493404184,
          "Var1": "skyc",
          "Var2": "day"
         },
         {
          "Correlation": 0.0005760752284700579,
          "Var1": "seats",
          "Var2": "day"
         },
         {
          "Correlation": -0.0005711026281104025,
          "Var1": "airline",
          "Var2": "day"
         },
         {
          "Correlation": 0.0009403039812612394,
          "Var1": "seats-1",
          "Var2": "day"
         },
         {
          "Correlation": 0.0008591484610912475,
          "Var1": "seats-2",
          "Var2": "day"
         },
         {
          "Correlation": 0.001266839058030472,
          "Var1": "seats-3",
          "Var2": "day"
         },
         {
          "Correlation": -0.0007621198038605555,
          "Var1": "year",
          "Var2": "hour"
         },
         {
          "Correlation": -0.0005051318512955368,
          "Var1": "month",
          "Var2": "hour"
         },
         {
          "Correlation": -0.00013852785516129507,
          "Var1": "day",
          "Var2": "hour"
         },
         {
          "Correlation": 1,
          "Var1": "hour",
          "Var2": "hour"
         },
         {
          "Correlation": 0.6472880056931951,
          "Var1": "rides",
          "Var2": "hour"
         },
         {
          "Correlation": 0.12059834709480886,
          "Var1": "tmpf",
          "Var2": "hour"
         },
         {
          "Correlation": 0.0029982367416688514,
          "Var1": "dwpf",
          "Var2": "hour"
         },
         {
          "Correlation": -0.30012874173446996,
          "Var1": "relh",
          "Var2": "hour"
         },
         {
          "Correlation": 0.22147985794561803,
          "Var1": "sknt",
          "Var2": "hour"
         },
         {
          "Correlation": -0.009433407653126436,
          "Var1": "p01i",
          "Var2": "hour"
         },
         {
          "Correlation": 0.009120900527586892,
          "Var1": "vsby",
          "Var2": "hour"
         },
         {
          "Correlation": 0.10414896509401937,
          "Var1": "feel",
          "Var2": "hour"
         },
         {
          "Correlation": 0.05552744752476021,
          "Var1": "skyc",
          "Var2": "hour"
         },
         {
          "Correlation": 0.44499731183974633,
          "Var1": "seats",
          "Var2": "hour"
         },
         {
          "Correlation": 0.3681570360628047,
          "Var1": "airline",
          "Var2": "hour"
         },
         {
          "Correlation": 0.5771333097489272,
          "Var1": "seats-1",
          "Var2": "hour"
         },
         {
          "Correlation": 0.6873511291694738,
          "Var1": "seats-2",
          "Var2": "hour"
         },
         {
          "Correlation": 0.7079877794141827,
          "Var1": "seats-3",
          "Var2": "hour"
         },
         {
          "Correlation": 0.17451468182989033,
          "Var1": "year",
          "Var2": "rides"
         },
         {
          "Correlation": 0.04596613850966899,
          "Var1": "month",
          "Var2": "rides"
         },
         {
          "Correlation": -0.02251519322570257,
          "Var1": "day",
          "Var2": "rides"
         },
         {
          "Correlation": 0.6472880056931951,
          "Var1": "hour",
          "Var2": "rides"
         },
         {
          "Correlation": 1,
          "Var1": "rides",
          "Var2": "rides"
         },
         {
          "Correlation": 0.22215668625773802,
          "Var1": "tmpf",
          "Var2": "rides"
         },
         {
          "Correlation": 0.13033679126887024,
          "Var1": "dwpf",
          "Var2": "rides"
         },
         {
          "Correlation": -0.23346148447457804,
          "Var1": "relh",
          "Var2": "rides"
         },
         {
          "Correlation": 0.15824120364972283,
          "Var1": "sknt",
          "Var2": "rides"
         },
         {
          "Correlation": 0.005233944397706241,
          "Var1": "p01i",
          "Var2": "rides"
         },
         {
          "Correlation": 0.021126127244660807,
          "Var1": "vsby",
          "Var2": "rides"
         },
         {
          "Correlation": 0.21278785788063712,
          "Var1": "feel",
          "Var2": "rides"
         },
         {
          "Correlation": 0.012328597661882537,
          "Var1": "skyc",
          "Var2": "rides"
         },
         {
          "Correlation": 0.5815831292554469,
          "Var1": "seats",
          "Var2": "rides"
         },
         {
          "Correlation": 0.49206469678245657,
          "Var1": "airline",
          "Var2": "rides"
         },
         {
          "Correlation": 0.7134395041550702,
          "Var1": "seats-1",
          "Var2": "rides"
         },
         {
          "Correlation": 0.7555488510811984,
          "Var1": "seats-2",
          "Var2": "rides"
         },
         {
          "Correlation": 0.6956017891778464,
          "Var1": "seats-3",
          "Var2": "rides"
         },
         {
          "Correlation": 0.07273129084092456,
          "Var1": "year",
          "Var2": "tmpf"
         },
         {
          "Correlation": 0.26018353232637376,
          "Var1": "month",
          "Var2": "tmpf"
         },
         {
          "Correlation": 0.023375412361447155,
          "Var1": "day",
          "Var2": "tmpf"
         },
         {
          "Correlation": 0.12059834709480886,
          "Var1": "hour",
          "Var2": "tmpf"
         },
         {
          "Correlation": 0.22215668625773802,
          "Var1": "rides",
          "Var2": "tmpf"
         },
         {
          "Correlation": 1,
          "Var1": "tmpf",
          "Var2": "tmpf"
         },
         {
          "Correlation": 0.9321191757334462,
          "Var1": "dwpf",
          "Var2": "tmpf"
         },
         {
          "Correlation": -0.1674701270964078,
          "Var1": "relh",
          "Var2": "tmpf"
         },
         {
          "Correlation": -0.09666241407022508,
          "Var1": "sknt",
          "Var2": "tmpf"
         },
         {
          "Correlation": 0.026895449337795283,
          "Var1": "p01i",
          "Var2": "tmpf"
         },
         {
          "Correlation": 0.16196959377520764,
          "Var1": "vsby",
          "Var2": "tmpf"
         },
         {
          "Correlation": 0.995089614128236,
          "Var1": "feel",
          "Var2": "tmpf"
         },
         {
          "Correlation": -0.13848523909871643,
          "Var1": "skyc",
          "Var2": "tmpf"
         },
         {
          "Correlation": 0.12741066007754273,
          "Var1": "seats",
          "Var2": "tmpf"
         },
         {
          "Correlation": 0.0951423300080825,
          "Var1": "airline",
          "Var2": "tmpf"
         },
         {
          "Correlation": 0.15848809706992598,
          "Var1": "seats-1",
          "Var2": "tmpf"
         },
         {
          "Correlation": 0.18456491751305715,
          "Var1": "seats-2",
          "Var2": "tmpf"
         },
         {
          "Correlation": 0.2047705766237289,
          "Var1": "seats-3",
          "Var2": "tmpf"
         },
         {
          "Correlation": 0.057890359001205656,
          "Var1": "year",
          "Var2": "dwpf"
         },
         {
          "Correlation": 0.28941969482319313,
          "Var1": "month",
          "Var2": "dwpf"
         },
         {
          "Correlation": 0.032425523836468295,
          "Var1": "day",
          "Var2": "dwpf"
         },
         {
          "Correlation": 0.0029982367416688514,
          "Var1": "hour",
          "Var2": "dwpf"
         },
         {
          "Correlation": 0.13033679126887024,
          "Var1": "rides",
          "Var2": "dwpf"
         },
         {
          "Correlation": 0.9321191757334462,
          "Var1": "tmpf",
          "Var2": "dwpf"
         },
         {
          "Correlation": 1,
          "Var1": "dwpf",
          "Var2": "dwpf"
         },
         {
          "Correlation": 0.1941813479373857,
          "Var1": "relh",
          "Var2": "dwpf"
         },
         {
          "Correlation": -0.1694033826599451,
          "Var1": "sknt",
          "Var2": "dwpf"
         },
         {
          "Correlation": 0.08510568679134163,
          "Var1": "p01i",
          "Var2": "dwpf"
         },
         {
          "Correlation": 0.009691069720956002,
          "Var1": "vsby",
          "Var2": "dwpf"
         },
         {
          "Correlation": 0.9355971232541345,
          "Var1": "feel",
          "Var2": "dwpf"
         },
         {
          "Correlation": -0.023206545887872868,
          "Var1": "skyc",
          "Var2": "dwpf"
         },
         {
          "Correlation": 0.09915983678189717,
          "Var1": "seats",
          "Var2": "dwpf"
         },
         {
          "Correlation": 0.0788325409676799,
          "Var1": "airline",
          "Var2": "dwpf"
         },
         {
          "Correlation": 0.0994231863008755,
          "Var1": "seats-1",
          "Var2": "dwpf"
         },
         {
          "Correlation": 0.10010842079699812,
          "Var1": "seats-2",
          "Var2": "dwpf"
         },
         {
          "Correlation": 0.10065528758887111,
          "Var1": "seats-3",
          "Var2": "dwpf"
         },
         {
          "Correlation": -0.03589839419152852,
          "Var1": "year",
          "Var2": "relh"
         },
         {
          "Correlation": 0.07593931432902812,
          "Var1": "month",
          "Var2": "relh"
         },
         {
          "Correlation": 0.018575015233787122,
          "Var1": "day",
          "Var2": "relh"
         },
         {
          "Correlation": -0.30012874173446996,
          "Var1": "hour",
          "Var2": "relh"
         },
         {
          "Correlation": -0.23346148447457804,
          "Var1": "rides",
          "Var2": "relh"
         },
         {
          "Correlation": -0.1674701270964078,
          "Var1": "tmpf",
          "Var2": "relh"
         },
         {
          "Correlation": 0.1941813479373857,
          "Var1": "dwpf",
          "Var2": "relh"
         },
         {
          "Correlation": 1,
          "Var1": "relh",
          "Var2": "relh"
         },
         {
          "Correlation": -0.20470761508045573,
          "Var1": "sknt",
          "Var2": "relh"
         },
         {
          "Correlation": 0.17818959327456638,
          "Var1": "p01i",
          "Var2": "relh"
         },
         {
          "Correlation": -0.4903932302453149,
          "Var1": "vsby",
          "Var2": "relh"
         },
         {
          "Correlation": -0.1448209903180029,
          "Var1": "feel",
          "Var2": "relh"
         },
         {
          "Correlation": 0.3301792255207133,
          "Var1": "skyc",
          "Var2": "relh"
         },
         {
          "Correlation": -0.06497519280958645,
          "Var1": "seats",
          "Var2": "relh"
         },
         {
          "Correlation": -0.03488968093565858,
          "Var1": "airline",
          "Var2": "relh"
         },
         {
          "Correlation": -0.14493595220119157,
          "Var1": "seats-1",
          "Var2": "relh"
         },
         {
          "Correlation": -0.2133887941852999,
          "Var1": "seats-2",
          "Var2": "relh"
         },
         {
          "Correlation": -0.2691555517469837,
          "Var1": "seats-3",
          "Var2": "relh"
         },
         {
          "Correlation": 0.00041873464353727824,
          "Var1": "year",
          "Var2": "sknt"
         },
         {
          "Correlation": -0.08756690566946289,
          "Var1": "month",
          "Var2": "sknt"
         },
         {
          "Correlation": 0.029186253019038114,
          "Var1": "day",
          "Var2": "sknt"
         },
         {
          "Correlation": 0.22147985794561803,
          "Var1": "hour",
          "Var2": "sknt"
         },
         {
          "Correlation": 0.15824120364972283,
          "Var1": "rides",
          "Var2": "sknt"
         },
         {
          "Correlation": -0.09666241407022508,
          "Var1": "tmpf",
          "Var2": "sknt"
         },
         {
          "Correlation": -0.1694033826599451,
          "Var1": "dwpf",
          "Var2": "sknt"
         },
         {
          "Correlation": -0.20470761508045573,
          "Var1": "relh",
          "Var2": "sknt"
         },
         {
          "Correlation": 1,
          "Var1": "sknt",
          "Var2": "sknt"
         },
         {
          "Correlation": 0.03459995670245151,
          "Var1": "p01i",
          "Var2": "sknt"
         },
         {
          "Correlation": 0.017855329432189215,
          "Var1": "vsby",
          "Var2": "sknt"
         },
         {
          "Correlation": -0.15328948341856102,
          "Var1": "feel",
          "Var2": "sknt"
         },
         {
          "Correlation": 0.20841308852008686,
          "Var1": "skyc",
          "Var2": "sknt"
         },
         {
          "Correlation": 0.03573878550455516,
          "Var1": "seats",
          "Var2": "sknt"
         },
         {
          "Correlation": 0.013748973751859465,
          "Var1": "airline",
          "Var2": "sknt"
         },
         {
          "Correlation": 0.08862466479073544,
          "Var1": "seats-1",
          "Var2": "sknt"
         },
         {
          "Correlation": 0.1320890180321901,
          "Var1": "seats-2",
          "Var2": "sknt"
         },
         {
          "Correlation": 0.15869369967334168,
          "Var1": "seats-3",
          "Var2": "sknt"
         },
         {
          "Correlation": -0.002523288413945064,
          "Var1": "year",
          "Var2": "p01i"
         },
         {
          "Correlation": -0.008279791288419781,
          "Var1": "month",
          "Var2": "p01i"
         },
         {
          "Correlation": 0.0021933812310140363,
          "Var1": "day",
          "Var2": "p01i"
         },
         {
          "Correlation": -0.009433407653126436,
          "Var1": "hour",
          "Var2": "p01i"
         },
         {
          "Correlation": 0.005233944397706241,
          "Var1": "rides",
          "Var2": "p01i"
         },
         {
          "Correlation": 0.026895449337795283,
          "Var1": "tmpf",
          "Var2": "p01i"
         },
         {
          "Correlation": 0.08510568679134163,
          "Var1": "dwpf",
          "Var2": "p01i"
         },
         {
          "Correlation": 0.17818959327456638,
          "Var1": "relh",
          "Var2": "p01i"
         },
         {
          "Correlation": 0.03459995670245151,
          "Var1": "sknt",
          "Var2": "p01i"
         },
         {
          "Correlation": 1,
          "Var1": "p01i",
          "Var2": "p01i"
         },
         {
          "Correlation": -0.2857463798773159,
          "Var1": "vsby",
          "Var2": "p01i"
         },
         {
          "Correlation": 0.026594023234916886,
          "Var1": "feel",
          "Var2": "p01i"
         },
         {
          "Correlation": 0.13899171010972783,
          "Var1": "skyc",
          "Var2": "p01i"
         },
         {
          "Correlation": -0.023905397220823205,
          "Var1": "seats",
          "Var2": "p01i"
         },
         {
          "Correlation": -0.027322983941552706,
          "Var1": "airline",
          "Var2": "p01i"
         },
         {
          "Correlation": -0.031895204219836576,
          "Var1": "seats-1",
          "Var2": "p01i"
         },
         {
          "Correlation": -0.02855771576418522,
          "Var1": "seats-2",
          "Var2": "p01i"
         },
         {
          "Correlation": -0.026112701395888123,
          "Var1": "seats-3",
          "Var2": "p01i"
         },
         {
          "Correlation": -0.004729919228483598,
          "Var1": "year",
          "Var2": "vsby"
         },
         {
          "Correlation": 0.04737187079221399,
          "Var1": "month",
          "Var2": "vsby"
         },
         {
          "Correlation": 0.026472481498642685,
          "Var1": "day",
          "Var2": "vsby"
         },
         {
          "Correlation": 0.009120900527586892,
          "Var1": "hour",
          "Var2": "vsby"
         },
         {
          "Correlation": 0.021126127244660807,
          "Var1": "rides",
          "Var2": "vsby"
         },
         {
          "Correlation": 0.16196959377520764,
          "Var1": "tmpf",
          "Var2": "vsby"
         },
         {
          "Correlation": 0.009691069720956002,
          "Var1": "dwpf",
          "Var2": "vsby"
         },
         {
          "Correlation": -0.4903932302453149,
          "Var1": "relh",
          "Var2": "vsby"
         },
         {
          "Correlation": 0.017855329432189215,
          "Var1": "sknt",
          "Var2": "vsby"
         },
         {
          "Correlation": -0.2857463798773159,
          "Var1": "p01i",
          "Var2": "vsby"
         },
         {
          "Correlation": 1,
          "Var1": "vsby",
          "Var2": "vsby"
         },
         {
          "Correlation": 0.1584239916013344,
          "Var1": "feel",
          "Var2": "vsby"
         },
         {
          "Correlation": -0.31721862200937706,
          "Var1": "skyc",
          "Var2": "vsby"
         },
         {
          "Correlation": 0.018610360965502025,
          "Var1": "seats",
          "Var2": "vsby"
         },
         {
          "Correlation": 0.019397279464282532,
          "Var1": "airline",
          "Var2": "vsby"
         },
         {
          "Correlation": 0.029884656207681135,
          "Var1": "seats-1",
          "Var2": "vsby"
         },
         {
          "Correlation": 0.04357497606840036,
          "Var1": "seats-2",
          "Var2": "vsby"
         },
         {
          "Correlation": 0.06217616569910773,
          "Var1": "seats-3",
          "Var2": "vsby"
         },
         {
          "Correlation": 0.07191933441105874,
          "Var1": "year",
          "Var2": "feel"
         },
         {
          "Correlation": 0.2663597630992908,
          "Var1": "month",
          "Var2": "feel"
         },
         {
          "Correlation": 0.020965865200663215,
          "Var1": "day",
          "Var2": "feel"
         },
         {
          "Correlation": 0.10414896509401937,
          "Var1": "hour",
          "Var2": "feel"
         },
         {
          "Correlation": 0.21278785788063712,
          "Var1": "rides",
          "Var2": "feel"
         },
         {
          "Correlation": 0.995089614128236,
          "Var1": "tmpf",
          "Var2": "feel"
         },
         {
          "Correlation": 0.9355971232541345,
          "Var1": "dwpf",
          "Var2": "feel"
         },
         {
          "Correlation": -0.1448209903180029,
          "Var1": "relh",
          "Var2": "feel"
         },
         {
          "Correlation": -0.15328948341856102,
          "Var1": "sknt",
          "Var2": "feel"
         },
         {
          "Correlation": 0.026594023234916886,
          "Var1": "p01i",
          "Var2": "feel"
         },
         {
          "Correlation": 0.1584239916013344,
          "Var1": "vsby",
          "Var2": "feel"
         },
         {
          "Correlation": 1,
          "Var1": "feel",
          "Var2": "feel"
         },
         {
          "Correlation": -0.14423434355472273,
          "Var1": "skyc",
          "Var2": "feel"
         },
         {
          "Correlation": 0.12496723078024696,
          "Var1": "seats",
          "Var2": "feel"
         },
         {
          "Correlation": 0.09489236211981275,
          "Var1": "airline",
          "Var2": "feel"
         },
         {
          "Correlation": 0.15198724512303088,
          "Var1": "seats-1",
          "Var2": "feel"
         },
         {
          "Correlation": 0.17474051186004588,
          "Var1": "seats-2",
          "Var2": "feel"
         },
         {
          "Correlation": 0.19268086276584245,
          "Var1": "seats-3",
          "Var2": "feel"
         },
         {
          "Correlation": -0.17764945934777676,
          "Var1": "year",
          "Var2": "skyc"
         },
         {
          "Correlation": -0.06776157563482445,
          "Var1": "month",
          "Var2": "skyc"
         },
         {
          "Correlation": 0.024797299493404184,
          "Var1": "day",
          "Var2": "skyc"
         },
         {
          "Correlation": 0.05552744752476021,
          "Var1": "hour",
          "Var2": "skyc"
         },
         {
          "Correlation": 0.012328597661882537,
          "Var1": "rides",
          "Var2": "skyc"
         },
         {
          "Correlation": -0.13848523909871643,
          "Var1": "tmpf",
          "Var2": "skyc"
         },
         {
          "Correlation": -0.023206545887872868,
          "Var1": "dwpf",
          "Var2": "skyc"
         },
         {
          "Correlation": 0.3301792255207133,
          "Var1": "relh",
          "Var2": "skyc"
         },
         {
          "Correlation": 0.20841308852008686,
          "Var1": "sknt",
          "Var2": "skyc"
         },
         {
          "Correlation": 0.13899171010972783,
          "Var1": "p01i",
          "Var2": "skyc"
         },
         {
          "Correlation": -0.31721862200937706,
          "Var1": "vsby",
          "Var2": "skyc"
         },
         {
          "Correlation": -0.14423434355472273,
          "Var1": "feel",
          "Var2": "skyc"
         },
         {
          "Correlation": 1,
          "Var1": "skyc",
          "Var2": "skyc"
         },
         {
          "Correlation": -0.005961578814423968,
          "Var1": "seats",
          "Var2": "skyc"
         },
         {
          "Correlation": 0.01937883158797074,
          "Var1": "airline",
          "Var2": "skyc"
         },
         {
          "Correlation": 0.001747058154145506,
          "Var1": "seats-1",
          "Var2": "skyc"
         },
         {
          "Correlation": 0.009701258997915546,
          "Var1": "seats-2",
          "Var2": "skyc"
         },
         {
          "Correlation": 0.013088737231808187,
          "Var1": "seats-3",
          "Var2": "skyc"
         },
         {
          "Correlation": 0.04167719410955968,
          "Var1": "year",
          "Var2": "seats"
         },
         {
          "Correlation": 0.07225998271197222,
          "Var1": "month",
          "Var2": "seats"
         },
         {
          "Correlation": 0.0005760752284700579,
          "Var1": "day",
          "Var2": "seats"
         },
         {
          "Correlation": 0.44499731183974633,
          "Var1": "hour",
          "Var2": "seats"
         },
         {
          "Correlation": 0.5815831292554469,
          "Var1": "rides",
          "Var2": "seats"
         },
         {
          "Correlation": 0.12741066007754273,
          "Var1": "tmpf",
          "Var2": "seats"
         },
         {
          "Correlation": 0.09915983678189717,
          "Var1": "dwpf",
          "Var2": "seats"
         },
         {
          "Correlation": -0.06497519280958645,
          "Var1": "relh",
          "Var2": "seats"
         },
         {
          "Correlation": 0.03573878550455516,
          "Var1": "sknt",
          "Var2": "seats"
         },
         {
          "Correlation": -0.023905397220823205,
          "Var1": "p01i",
          "Var2": "seats"
         },
         {
          "Correlation": 0.018610360965502025,
          "Var1": "vsby",
          "Var2": "seats"
         },
         {
          "Correlation": 0.12496723078024696,
          "Var1": "feel",
          "Var2": "seats"
         },
         {
          "Correlation": -0.005961578814423968,
          "Var1": "skyc",
          "Var2": "seats"
         },
         {
          "Correlation": 1,
          "Var1": "seats",
          "Var2": "seats"
         },
         {
          "Correlation": 0.9622285500592686,
          "Var1": "airline",
          "Var2": "seats"
         },
         {
          "Correlation": 0.7369988416443987,
          "Var1": "seats-1",
          "Var2": "seats"
         },
         {
          "Correlation": 0.5689184381338687,
          "Var1": "seats-2",
          "Var2": "seats"
         },
         {
          "Correlation": 0.3655755819971858,
          "Var1": "seats-3",
          "Var2": "seats"
         },
         {
          "Correlation": -0.10853896226175243,
          "Var1": "year",
          "Var2": "airline"
         },
         {
          "Correlation": 0.049762984902771853,
          "Var1": "month",
          "Var2": "airline"
         },
         {
          "Correlation": -0.0005711026281104025,
          "Var1": "day",
          "Var2": "airline"
         },
         {
          "Correlation": 0.3681570360628047,
          "Var1": "hour",
          "Var2": "airline"
         },
         {
          "Correlation": 0.49206469678245657,
          "Var1": "rides",
          "Var2": "airline"
         },
         {
          "Correlation": 0.0951423300080825,
          "Var1": "tmpf",
          "Var2": "airline"
         },
         {
          "Correlation": 0.0788325409676799,
          "Var1": "dwpf",
          "Var2": "airline"
         },
         {
          "Correlation": -0.03488968093565858,
          "Var1": "relh",
          "Var2": "airline"
         },
         {
          "Correlation": 0.013748973751859465,
          "Var1": "sknt",
          "Var2": "airline"
         },
         {
          "Correlation": -0.027322983941552706,
          "Var1": "p01i",
          "Var2": "airline"
         },
         {
          "Correlation": 0.019397279464282532,
          "Var1": "vsby",
          "Var2": "airline"
         },
         {
          "Correlation": 0.09489236211981275,
          "Var1": "feel",
          "Var2": "airline"
         },
         {
          "Correlation": 0.01937883158797074,
          "Var1": "skyc",
          "Var2": "airline"
         },
         {
          "Correlation": 0.9622285500592686,
          "Var1": "seats",
          "Var2": "airline"
         },
         {
          "Correlation": 1,
          "Var1": "airline",
          "Var2": "airline"
         },
         {
          "Correlation": 0.6889514071826673,
          "Var1": "seats-1",
          "Var2": "airline"
         },
         {
          "Correlation": 0.4929581318113347,
          "Var1": "seats-2",
          "Var2": "airline"
         },
         {
          "Correlation": 0.2997208777943415,
          "Var1": "seats-3",
          "Var2": "airline"
         },
         {
          "Correlation": 0.04161642035141705,
          "Var1": "year",
          "Var2": "seats-1"
         },
         {
          "Correlation": 0.072358733791307,
          "Var1": "month",
          "Var2": "seats-1"
         },
         {
          "Correlation": 0.0009403039812612394,
          "Var1": "day",
          "Var2": "seats-1"
         },
         {
          "Correlation": 0.5771333097489272,
          "Var1": "hour",
          "Var2": "seats-1"
         },
         {
          "Correlation": 0.7134395041550702,
          "Var1": "rides",
          "Var2": "seats-1"
         },
         {
          "Correlation": 0.15848809706992598,
          "Var1": "tmpf",
          "Var2": "seats-1"
         },
         {
          "Correlation": 0.0994231863008755,
          "Var1": "dwpf",
          "Var2": "seats-1"
         },
         {
          "Correlation": -0.14493595220119157,
          "Var1": "relh",
          "Var2": "seats-1"
         },
         {
          "Correlation": 0.08862466479073544,
          "Var1": "sknt",
          "Var2": "seats-1"
         },
         {
          "Correlation": -0.031895204219836576,
          "Var1": "p01i",
          "Var2": "seats-1"
         },
         {
          "Correlation": 0.029884656207681135,
          "Var1": "vsby",
          "Var2": "seats-1"
         },
         {
          "Correlation": 0.15198724512303088,
          "Var1": "feel",
          "Var2": "seats-1"
         },
         {
          "Correlation": 0.001747058154145506,
          "Var1": "skyc",
          "Var2": "seats-1"
         },
         {
          "Correlation": 0.7369988416443987,
          "Var1": "seats",
          "Var2": "seats-1"
         },
         {
          "Correlation": 0.6889514071826673,
          "Var1": "airline",
          "Var2": "seats-1"
         },
         {
          "Correlation": 1,
          "Var1": "seats-1",
          "Var2": "seats-1"
         },
         {
          "Correlation": 0.7369907108790649,
          "Var1": "seats-2",
          "Var2": "seats-1"
         },
         {
          "Correlation": 0.5689032028669477,
          "Var1": "seats-3",
          "Var2": "seats-1"
         },
         {
          "Correlation": 0.04157163397870505,
          "Var1": "year",
          "Var2": "seats-2"
         },
         {
          "Correlation": 0.07254144073066866,
          "Var1": "month",
          "Var2": "seats-2"
         },
         {
          "Correlation": 0.0008591484610912475,
          "Var1": "day",
          "Var2": "seats-2"
         },
         {
          "Correlation": 0.6873511291694738,
          "Var1": "hour",
          "Var2": "seats-2"
         },
         {
          "Correlation": 0.7555488510811984,
          "Var1": "rides",
          "Var2": "seats-2"
         },
         {
          "Correlation": 0.18456491751305715,
          "Var1": "tmpf",
          "Var2": "seats-2"
         },
         {
          "Correlation": 0.10010842079699812,
          "Var1": "dwpf",
          "Var2": "seats-2"
         },
         {
          "Correlation": -0.2133887941852999,
          "Var1": "relh",
          "Var2": "seats-2"
         },
         {
          "Correlation": 0.1320890180321901,
          "Var1": "sknt",
          "Var2": "seats-2"
         },
         {
          "Correlation": -0.02855771576418522,
          "Var1": "p01i",
          "Var2": "seats-2"
         },
         {
          "Correlation": 0.04357497606840036,
          "Var1": "vsby",
          "Var2": "seats-2"
         },
         {
          "Correlation": 0.17474051186004588,
          "Var1": "feel",
          "Var2": "seats-2"
         },
         {
          "Correlation": 0.009701258997915546,
          "Var1": "skyc",
          "Var2": "seats-2"
         },
         {
          "Correlation": 0.5689184381338687,
          "Var1": "seats",
          "Var2": "seats-2"
         },
         {
          "Correlation": 0.4929581318113347,
          "Var1": "airline",
          "Var2": "seats-2"
         },
         {
          "Correlation": 0.7369907108790649,
          "Var1": "seats-1",
          "Var2": "seats-2"
         },
         {
          "Correlation": 1,
          "Var1": "seats-2",
          "Var2": "seats-2"
         },
         {
          "Correlation": 0.7369786811519288,
          "Var1": "seats-3",
          "Var2": "seats-2"
         },
         {
          "Correlation": 0.04153550327051266,
          "Var1": "year",
          "Var2": "seats-3"
         },
         {
          "Correlation": 0.07287105454205496,
          "Var1": "month",
          "Var2": "seats-3"
         },
         {
          "Correlation": 0.001266839058030472,
          "Var1": "day",
          "Var2": "seats-3"
         },
         {
          "Correlation": 0.7079877794141827,
          "Var1": "hour",
          "Var2": "seats-3"
         },
         {
          "Correlation": 0.6956017891778464,
          "Var1": "rides",
          "Var2": "seats-3"
         },
         {
          "Correlation": 0.2047705766237289,
          "Var1": "tmpf",
          "Var2": "seats-3"
         },
         {
          "Correlation": 0.10065528758887111,
          "Var1": "dwpf",
          "Var2": "seats-3"
         },
         {
          "Correlation": -0.2691555517469837,
          "Var1": "relh",
          "Var2": "seats-3"
         },
         {
          "Correlation": 0.15869369967334168,
          "Var1": "sknt",
          "Var2": "seats-3"
         },
         {
          "Correlation": -0.026112701395888123,
          "Var1": "p01i",
          "Var2": "seats-3"
         },
         {
          "Correlation": 0.06217616569910773,
          "Var1": "vsby",
          "Var2": "seats-3"
         },
         {
          "Correlation": 0.19268086276584245,
          "Var1": "feel",
          "Var2": "seats-3"
         },
         {
          "Correlation": 0.013088737231808187,
          "Var1": "skyc",
          "Var2": "seats-3"
         },
         {
          "Correlation": 0.3655755819971858,
          "Var1": "seats",
          "Var2": "seats-3"
         },
         {
          "Correlation": 0.2997208777943415,
          "Var1": "airline",
          "Var2": "seats-3"
         },
         {
          "Correlation": 0.5689032028669477,
          "Var1": "seats-1",
          "Var2": "seats-3"
         },
         {
          "Correlation": 0.7369786811519288,
          "Var1": "seats-2",
          "Var2": "seats-3"
         },
         {
          "Correlation": 1,
          "Var1": "seats-3",
          "Var2": "seats-3"
         }
        ]
       },
       "height": 500,
       "layer": [
        {
         "encoding": {
          "color": {
           "field": "Correlation",
           "scale": {
            "scheme": "viridis"
           },
           "type": "quantitative"
          },
          "x": {
           "field": "Var2",
           "type": "nominal"
          },
          "y": {
           "field": "Var1",
           "type": "nominal"
          }
         },
         "mark": "rect"
        },
        {
         "encoding": {
          "color": {
           "condition": {
            "test": "(datum.Correlation >= 0.9)",
            "value": "black"
           },
           "value": "white"
          },
          "text": {
           "field": "Correlation",
           "format": ".1",
           "type": "quantitative"
          },
          "x": {
           "field": "Var2",
           "type": "nominal"
          },
          "y": {
           "field": "Var1",
           "type": "nominal"
          }
         },
         "mark": {
          "baseline": "middle",
          "type": "text"
         }
        }
       ],
       "title": "Pearson's correlation",
       "width": 800
      },
      "image/png": "[encoded data removed]",
      "text/plain": [
       "<VegaLite 3 object>\n",
       "\n",
       "If you see this message, it means the renderer has not been properly enabled\n",
       "for the frontend that you are using. For more information, see\n",
       "https://altair-viz.github.io/user_guide/troubleshooting.html\n"
      ]
     },
     "execution_count": 63,
     "metadata": {},
     "output_type": "execute_result"
    }
   ],
   "source": [
    "ORD_corr = ORD_train_lag.corr().reset_index().rename(columns = {'index':'Var1'}).melt(id_vars = ['Var1'],\n",
    "                                                                                    value_name = 'Correlation',\n",
    "                                                                                    var_name = 'Var2')\n",
    "base = alt.Chart(ORD_corr).encode(\n",
    "    alt.Y('Var1:N'),\n",
    "    alt.X('Var2:N')\n",
    ") \n",
    "\n",
    "heatmap = base.mark_rect().encode(\n",
    "     alt.Color('Correlation:Q',\n",
    "                scale=alt.Scale(scheme='viridis'))\n",
    ")\n",
    "\n",
    "text = base.mark_text(baseline='middle').encode(\n",
    "    text=alt.Text('Correlation:Q', format='.1'),\n",
    "    color=alt.condition(\n",
    "        alt.datum.Correlation >= 0.90,\n",
    "        alt.value('black'),\n",
    "        alt.value('white')\n",
    "    )\n",
    ")\n",
    "\n",
    "(heatmap + text).properties(\n",
    "    width = 800,\n",
    "    height = 500,\n",
    "    title = \"Pearson's correlation\"\n",
    ")"
   ]
  },
  {
   "cell_type": "code",
   "execution_count": 112,
   "metadata": {},
   "outputs": [],
   "source": [
    "p1 = alt.Chart(ORD_train).mark_trail().encode(\n",
    "    x = alt.X('hour:N'),\n",
    "    y = alt.Y('mean(seats):Q'),\n",
    "    color = alt.Color('year:N')\n",
    ")"
   ]
  },
  {
   "cell_type": "code",
   "execution_count": 80,
   "metadata": {},
   "outputs": [
    {
     "data": {
      "application/vnd.vegalite.v3+json": {
       "$schema": "https://vega.github.io/schema/vega-lite/v3.4.0.json",
       "config": {
        "mark": {
         "tooltip": null
        },
        "view": {
         "height": 300,
         "width": 400
        }
       },
       "data": {
        "format": {
         "type": "json"
        },
        "url": "altair-data-da8f6252e0ac72b773a2dbf1f434c5bb.json"
       },
       "encoding": {
        "color": {
         "field": "year",
         "type": "nominal"
        },
        "x": {
         "field": "hour",
         "type": "nominal"
        },
        "y": {
         "aggregate": "mean",
         "field": "rides",
         "type": "quantitative"
        }
       },
       "mark": "trail"
      },
      "image/png": "[encoded data removed]",
      "text/plain": [
       "<VegaLite 3 object>\n",
       "\n",
       "If you see this message, it means the renderer has not been properly enabled\n",
       "for the frontend that you are using. For more information, see\n",
       "https://altair-viz.github.io/user_guide/troubleshooting.html\n"
      ]
     },
     "execution_count": 80,
     "metadata": {},
     "output_type": "execute_result"
    }
   ],
   "source": [
    "alt.Chart(ORD_train).mark_trail().encode(\n",
    "    x = alt.X('hour:N'),\n",
    "    y = alt.Y('mean(rides):Q'),\n",
    "    color = alt.Color('year:N')\n",
    ")"
   ]
  },
  {
   "cell_type": "code",
   "execution_count": 81,
   "metadata": {},
   "outputs": [
    {
     "data": {
      "application/vnd.vegalite.v3+json": {
       "$schema": "https://vega.github.io/schema/vega-lite/v3.4.0.json",
       "config": {
        "mark": {
         "tooltip": null
        },
        "view": {
         "height": 300,
         "width": 400
        }
       },
       "data": {
        "format": {
         "type": "json"
        },
        "url": "altair-data-da8f6252e0ac72b773a2dbf1f434c5bb.json"
       },
       "encoding": {
        "color": {
         "field": "year",
         "type": "nominal"
        },
        "x": {
         "field": "month",
         "type": "nominal"
        },
        "y": {
         "aggregate": "mean",
         "field": "rides",
         "type": "quantitative"
        }
       },
       "mark": "trail"
      },
      "image/png": "[encoded data removed]",
      "text/plain": [
       "<VegaLite 3 object>\n",
       "\n",
       "If you see this message, it means the renderer has not been properly enabled\n",
       "for the frontend that you are using. For more information, see\n",
       "https://altair-viz.github.io/user_guide/troubleshooting.html\n"
      ]
     },
     "execution_count": 81,
     "metadata": {},
     "output_type": "execute_result"
    }
   ],
   "source": [
    "alt.Chart(ORD_train).mark_trail().encode(\n",
    "    x = alt.X('month:N'),\n",
    "    y = alt.Y('mean(rides):Q'),\n",
    "    color = alt.Color('year:N')\n",
    ")"
   ]
  },
  {
   "cell_type": "code",
   "execution_count": 107,
   "metadata": {},
   "outputs": [
    {
     "data": {
      "application/vnd.vegalite.v3+json": {
       "$schema": "https://vega.github.io/schema/vega-lite/v3.4.0.json",
       "config": {
        "mark": {
         "tooltip": null
        },
        "view": {
         "height": 300,
         "width": 400
        }
       },
       "data": {
        "format": {
         "type": "json"
        },
        "url": "altair-data-4ff9c0aba2ca52b474b503c7458a5ec8.json"
       },
       "encoding": {
        "x": {
         "bin": {
          "extent": [
           0,
           10000
          ],
          "step": 100
         },
         "field": "seats-2",
         "type": "quantitative"
        },
        "y": {
         "aggregate": "mean",
         "field": "rides",
         "type": "quantitative"
        }
       },
       "mark": {
        "opacity": 0.7,
        "type": "bar"
       }
      },
      "image/png": "[encoded data removed]",
      "text/plain": [
       "<VegaLite 3 object>\n",
       "\n",
       "If you see this message, it means the renderer has not been properly enabled\n",
       "for the frontend that you are using. For more information, see\n",
       "https://altair-viz.github.io/user_guide/troubleshooting.html\n"
      ]
     },
     "execution_count": 107,
     "metadata": {},
     "output_type": "execute_result"
    }
   ],
   "source": [
    "alt.Chart(ORD_train_lag).mark_bar(opacity=0.7).encode(\n",
    "    x = alt.X('seats-2:Q', bin=alt.Bin(extent=[0, 10000], step=100)),\n",
    "    y = alt.Y('mean(rides):Q')\n",
    ")"
   ]
  },
  {
   "cell_type": "code",
   "execution_count": 94,
   "metadata": {},
   "outputs": [
    {
     "data": {
      "application/vnd.vegalite.v3+json": {
       "$schema": "https://vega.github.io/schema/vega-lite/v3.4.0.json",
       "config": {
        "mark": {
         "tooltip": null
        },
        "view": {
         "height": 300,
         "width": 400
        }
       },
       "data": {
        "format": {
         "type": "json"
        },
        "url": "altair-data-d73504ea679479a0682210ec229e61bc.json"
       },
       "encoding": {
        "x": {
         "field": "feel",
         "type": "quantitative"
        },
        "y": {
         "aggregate": "mean",
         "field": "rides",
         "type": "quantitative"
        }
       },
       "mark": {
        "opacity": 0.2,
        "type": "circle"
       }
      },
      "image/png": "[encoded data removed]",
      "text/plain": [
       "<VegaLite 3 object>\n",
       "\n",
       "If you see this message, it means the renderer has not been properly enabled\n",
       "for the frontend that you are using. For more information, see\n",
       "https://altair-viz.github.io/user_guide/troubleshooting.html\n"
      ]
     },
     "execution_count": 94,
     "metadata": {},
     "output_type": "execute_result"
    }
   ],
   "source": [
    "alt.Chart(ORD_train.query('month == 7')).mark_circle(opacity=0.2).encode(\n",
    "    x = alt.X('feel:Q'),\n",
    "    y = alt.Y('mean(rides):Q')\n",
    ")"
   ]
  },
  {
   "cell_type": "code",
   "execution_count": 109,
   "metadata": {},
   "outputs": [
    {
     "data": {
      "application/vnd.vegalite.v3+json": {
       "$schema": "https://vega.github.io/schema/vega-lite/v3.4.0.json",
       "config": {
        "mark": {
         "tooltip": null
        },
        "view": {
         "height": 300,
         "width": 400
        }
       },
       "data": {
        "format": {
         "type": "json"
        },
        "url": "altair-data-4ff9c0aba2ca52b474b503c7458a5ec8.json"
       },
       "encoding": {
        "x": {
         "field": "airline",
         "type": "quantitative"
        },
        "y": {
         "aggregate": "mean",
         "field": "rides",
         "type": "quantitative"
        }
       },
       "mark": {
        "opacity": 0.7,
        "type": "circle"
       }
      },
      "image/png": "[encoded data removed]",
      "text/plain": [
       "<VegaLite 3 object>\n",
       "\n",
       "If you see this message, it means the renderer has not been properly enabled\n",
       "for the frontend that you are using. For more information, see\n",
       "https://altair-viz.github.io/user_guide/troubleshooting.html\n"
      ]
     },
     "execution_count": 109,
     "metadata": {},
     "output_type": "execute_result"
    }
   ],
   "source": [
    "alt.Chart(ORD_train_lag).mark_circle(opacity=0.7).encode(\n",
    "    x = alt.X('airline:Q'),\n",
    "    y = alt.Y('mean(rides):Q')\n",
    ")"
   ]
  },
  {
   "cell_type": "code",
   "execution_count": 113,
   "metadata": {},
   "outputs": [],
   "source": [
    "p2 = alt.Chart(ORD_train).mark_trail().encode(\n",
    "    x = alt.X('hour:N'),\n",
    "    y = alt.Y('mean(rides):Q')\n",
    ")"
   ]
  },
  {
   "cell_type": "code",
   "execution_count": 125,
   "metadata": {},
   "outputs": [
    {
     "data": {
      "application/vnd.vegalite.v3+json": {
       "$schema": "https://vega.github.io/schema/vega-lite/v3.4.0.json",
       "config": {
        "mark": {
         "tooltip": null
        },
        "view": {
         "height": 300,
         "width": 400
        }
       },
       "data": {
        "format": {
         "type": "json"
        },
        "url": "altair-data-da8f6252e0ac72b773a2dbf1f434c5bb.json"
       },
       "encoding": {
        "color": {
         "field": "year",
         "type": "nominal"
        },
        "x": {
         "field": "hour",
         "type": "nominal"
        },
        "y": {
         "aggregate": "mean",
         "field": "seats",
         "type": "quantitative"
        }
       },
       "mark": "trail"
      },
      "image/png": "[encoded data removed]",
      "text/plain": [
       "<VegaLite 3 object>\n",
       "\n",
       "If you see this message, it means the renderer has not been properly enabled\n",
       "for the frontend that you are using. For more information, see\n",
       "https://altair-viz.github.io/user_guide/troubleshooting.html\n"
      ]
     },
     "execution_count": 125,
     "metadata": {},
     "output_type": "execute_result"
    }
   ],
   "source": [
    "p1"
   ]
  },
  {
   "cell_type": "code",
   "execution_count": 126,
   "metadata": {},
   "outputs": [
    {
     "data": {
      "application/vnd.vegalite.v3+json": {
       "$schema": "https://vega.github.io/schema/vega-lite/v3.4.0.json",
       "config": {
        "mark": {
         "tooltip": null
        },
        "view": {
         "height": 300,
         "width": 400
        }
       },
       "data": {
        "format": {
         "type": "json"
        },
        "url": "altair-data-da8f6252e0ac72b773a2dbf1f434c5bb.json"
       },
       "encoding": {
        "x": {
         "field": "hour",
         "type": "nominal"
        },
        "y": {
         "aggregate": "mean",
         "field": "rides",
         "type": "quantitative"
        }
       },
       "mark": "trail"
      },
      "image/png": "[encoded data removed]",
      "text/plain": [
       "<VegaLite 3 object>\n",
       "\n",
       "If you see this message, it means the renderer has not been properly enabled\n",
       "for the frontend that you are using. For more information, see\n",
       "https://altair-viz.github.io/user_guide/troubleshooting.html\n"
      ]
     },
     "execution_count": 126,
     "metadata": {},
     "output_type": "execute_result"
    }
   ],
   "source": [
    "p2"
   ]
  },
  {
   "cell_type": "code",
   "execution_count": null,
   "metadata": {},
   "outputs": [],
   "source": []
  }
 ],
 "metadata": {
  "kernelspec": {
   "display_name": "Python 3",
   "language": "python",
   "name": "python3"
  },
  "language_info": {
   "codemirror_mode": {
    "name": "ipython",
    "version": 3
   },
   "file_extension": ".py",
   "mimetype": "text/x-python",
   "name": "python",
   "nbconvert_exporter": "python",
   "pygments_lexer": "ipython3",
   "version": "3.7.6"
  }
 },
 "nbformat": 4,
 "nbformat_minor": 4
}
